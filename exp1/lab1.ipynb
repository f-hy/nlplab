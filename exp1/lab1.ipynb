{
 "cells": [
  {
   "cell_type": "code",
   "execution_count": 1,
   "metadata": {
    "collapsed": true,
    "pycharm": {
     "name": "#%%\n"
    }
   },
   "outputs": [],
   "source": [
    "#https://blog.csdn.net/qq_42813323/article/details/88531940\n",
    "import string\n",
    "\n",
    "from nltk.tokenize import word_tokenize\n",
    "from nltk import bigrams, FreqDist\n",
    "from math import log"
   ]
  },
  {
   "cell_type": "code",
   "execution_count": 2,
   "outputs": [
    {
     "name": "stdout",
     "output_type": "stream",
     "text": [
      "# packages in environment at D:\\App\\Anaconda3\\envs\\69t112:\n",
      "#\n",
      "# Name                    Version                   Build  Channel\n",
      "absl-py                   1.3.0                    pypi_0    pypi\n",
      "astor                     0.8.1                    pypi_0    pypi\n",
      "blas                      1.0                         mkl    http://mirrors.tuna.tsinghua.edu.cn/anaconda/pkgs/free\n",
      "boto                      2.48.0                   py36_0    http://mirrors.tuna.tsinghua.edu.cn/anaconda/pkgs/free\n",
      "bz2file                   0.98                     py36_0    http://mirrors.tuna.tsinghua.edu.cn/anaconda/pkgs/free\n",
      "cached-property           1.5.2                    pypi_0    pypi\n",
      "certifi                   2016.2.28                py36_0    http://mirrors.tuna.tsinghua.edu.cn/anaconda/pkgs/free\n",
      "colorama                  0.3.9                    py36_0    http://mirrors.tuna.tsinghua.edu.cn/anaconda/pkgs/free\n",
      "cudatoolkit               9.0                           1    http://mirrors.tuna.tsinghua.edu.cn/anaconda/pkgs/main\n",
      "cudnn                     7.6.5                 cuda9.0_0    http://mirrors.tuna.tsinghua.edu.cn/anaconda/pkgs/main\n",
      "dataclasses               0.8                      pypi_0    pypi\n",
      "decorator                 4.1.2                    py36_0    http://mirrors.tuna.tsinghua.edu.cn/anaconda/pkgs/free\n",
      "gast                      0.5.3                    pypi_0    pypi\n",
      "gensim                    2.3.0               np113py36_0    http://mirrors.tuna.tsinghua.edu.cn/anaconda/pkgs/free\n",
      "grpcio                    1.48.2                   pypi_0    pypi\n",
      "h5py                      2.10.0                   pypi_0    pypi\n",
      "importlib-metadata        4.8.3                    pypi_0    pypi\n",
      "ipykernel                 4.6.1                    py36_0    http://mirrors.tuna.tsinghua.edu.cn/anaconda/pkgs/free\n",
      "ipython                   6.1.0                    py36_0    http://mirrors.tuna.tsinghua.edu.cn/anaconda/pkgs/free\n",
      "ipython_genutils          0.2.0                    py36_0    http://mirrors.tuna.tsinghua.edu.cn/anaconda/pkgs/free\n",
      "jedi                      0.10.2                   py36_2    http://mirrors.tuna.tsinghua.edu.cn/anaconda/pkgs/free\n",
      "jupyter_client            5.1.0                    py36_0    http://mirrors.tuna.tsinghua.edu.cn/anaconda/pkgs/free\n",
      "jupyter_core              4.3.0                    py36_0    http://mirrors.tuna.tsinghua.edu.cn/anaconda/pkgs/free\n",
      "keras                     2.6.0              pyhd3eb1b0_0    http://mirrors.tuna.tsinghua.edu.cn/anaconda/pkgs/main\n",
      "keras-applications        1.0.8                    pypi_0    pypi\n",
      "keras-preprocessing       1.1.2                    pypi_0    pypi\n",
      "markdown                  3.3.7                    pypi_0    pypi\n",
      "mkl                       2017.0.3                      0    http://mirrors.tuna.tsinghua.edu.cn/anaconda/pkgs/free\n",
      "nltk                      3.2.4                    py36_0    http://mirrors.tuna.tsinghua.edu.cn/anaconda/pkgs/free\n",
      "numpy                     1.19.5                   pypi_0    pypi\n",
      "path.py                   10.3.1                   py36_0    http://mirrors.tuna.tsinghua.edu.cn/anaconda/pkgs/free\n",
      "pickleshare               0.7.4                    py36_0    http://mirrors.tuna.tsinghua.edu.cn/anaconda/pkgs/free\n",
      "pip                       21.3.1                   pypi_0    pypi\n",
      "prompt_toolkit            1.0.15                   py36_0    http://mirrors.tuna.tsinghua.edu.cn/anaconda/pkgs/free\n",
      "protobuf                  3.19.6                   pypi_0    pypi\n",
      "pygments                  2.2.0                    py36_0    http://mirrors.tuna.tsinghua.edu.cn/anaconda/pkgs/free\n",
      "python                    3.6.2                         0    http://mirrors.tuna.tsinghua.edu.cn/anaconda/pkgs/free\n",
      "python-dateutil           2.6.1                    py36_0    http://mirrors.tuna.tsinghua.edu.cn/anaconda/pkgs/free\n",
      "pyzmq                     16.0.2                   py36_0    http://mirrors.tuna.tsinghua.edu.cn/anaconda/pkgs/free\n",
      "requests                  2.14.2                   py36_0    http://mirrors.tuna.tsinghua.edu.cn/anaconda/pkgs/free\n",
      "scikit-learn              0.20.0                   pypi_0    pypi\n",
      "scipy                     1.5.4                    pypi_0    pypi\n",
      "setuptools                36.4.0                   py36_1    http://mirrors.tuna.tsinghua.edu.cn/anaconda/pkgs/free\n",
      "simplegeneric             0.8.1                    py36_1    http://mirrors.tuna.tsinghua.edu.cn/anaconda/pkgs/free\n",
      "six                       1.16.0                   pypi_0    pypi\n",
      "smart_open                1.5.3                    py36_0    http://mirrors.tuna.tsinghua.edu.cn/anaconda/pkgs/free\n",
      "tensorboard               1.12.2                   pypi_0    pypi\n",
      "tensorflow-gpu            1.12.0                   pypi_0    pypi\n",
      "termcolor                 1.1.0                    pypi_0    pypi\n",
      "tornado                   4.5.2                    py36_0    http://mirrors.tuna.tsinghua.edu.cn/anaconda/pkgs/free\n",
      "tqdm                      4.15.0                   py36_0    http://mirrors.tuna.tsinghua.edu.cn/anaconda/pkgs/free\n",
      "traitlets                 4.3.2                    py36_0    http://mirrors.tuna.tsinghua.edu.cn/anaconda/pkgs/free\n",
      "typing-extensions         4.1.1                    pypi_0    pypi\n",
      "vc                        14                            0    http://mirrors.tuna.tsinghua.edu.cn/anaconda/pkgs/free\n",
      "vs2015_runtime            14.0.25420                    0    http://mirrors.tuna.tsinghua.edu.cn/anaconda/pkgs/free\n",
      "wcwidth                   0.1.7                    py36_0    http://mirrors.tuna.tsinghua.edu.cn/anaconda/pkgs/free\n",
      "werkzeug                  2.0.3                    pypi_0    pypi\n",
      "wheel                     0.29.0                   py36_0    http://mirrors.tuna.tsinghua.edu.cn/anaconda/pkgs/free\n",
      "wincertstore              0.2                      py36_0    http://mirrors.tuna.tsinghua.edu.cn/anaconda/pkgs/free\n",
      "zipp                      3.6.0                    pypi_0    pypi\n"
     ]
    }
   ],
   "source": [
    "#tensorflow-gpu1.12.0\n",
    "#numpy1.14.1\n",
    "!conda list\n",
    "#numpy1.14.1\n",
    "# !python -m pip install --upgrade pip --trusted-host pypi.tuna.tsinghua.edu.cn\n",
    "# !pip install -U -i https://pypi.tuna.tsinghua.edu.cn/simple numpy==1.19.5 --upgrade pip --trusted-host pypi.tuna.tsinghua.edu.cn"
   ],
   "metadata": {
    "collapsed": false,
    "pycharm": {
     "name": "#%%\n"
    }
   }
  },
  {
   "cell_type": "code",
   "execution_count": 3,
   "outputs": [
    {
     "data": {
      "text/plain": "FileSystemPathPointer('D:\\\\App\\\\Anaconda3\\\\envs\\\\69t112\\\\lib\\\\nltk_data')"
     },
     "execution_count": 3,
     "metadata": {},
     "output_type": "execute_result"
    }
   ],
   "source": [
    "import nltk\n",
    "nltk.find(\".\")"
   ],
   "metadata": {
    "collapsed": false,
    "pycharm": {
     "name": "#%%\n"
    }
   }
  },
  {
   "cell_type": "code",
   "execution_count": 7,
   "outputs": [],
   "source": [
    "# 读取数据 小写 替换符号 分句\n",
    "dataset = open(\"train_LM.txt\", 'r+', encoding='utf-8').read().lower()\\\n",
    "                .replace(',',' ').replace('.',' ').replace('?',' ').replace('!',' ')\\\n",
    "                .replace(':',' ').replace(';',' ').replace('<',' ').replace('>',' ').replace('/',' ')\\\n",
    "                .split(\"__eou__\")\n",
    "testset = open(\"test_LM.txt\", 'r+', encoding='utf-8').read().lower()\\\n",
    "                .replace(',',' ').replace('.',' ').replace('?',' ').replace('!',' ')\\\n",
    "                .replace(':',' ').replace(';',' ').replace('<',' ').replace('>',' ').replace('/',' ')\\\n",
    "                .split(\"__eou__\")"
   ],
   "metadata": {
    "collapsed": false,
    "pycharm": {
     "name": "#%%\n"
    }
   }
  },
  {
   "cell_type": "code",
   "execution_count": 6,
   "outputs": [
    {
     "data": {
      "text/plain": "'!\"#$%&\\'()*+,-./:;<=>?@[\\\\]^_`{|}~'"
     },
     "execution_count": 6,
     "metadata": {},
     "output_type": "execute_result"
    }
   ],
   "source": [
    "import string\n",
    "string.punctuation"
   ],
   "metadata": {
    "collapsed": false,
    "pycharm": {
     "name": "#%%\n"
    }
   }
  },
  {
   "cell_type": "markdown",
   "source": [
    "uni-gram"
   ],
   "metadata": {
    "collapsed": false,
    "pycharm": {
     "name": "#%% md\n"
    }
   }
  },
  {
   "cell_type": "code",
   "execution_count": 8,
   "outputs": [],
   "source": [
    "#train\n",
    "unigramsDist = FreqDist()  # uni-gram词频数字典\n",
    "for i in dataset:\n",
    "    sWordFreq = FreqDist(word_tokenize(i))  # 每一句的词频数字典\n",
    "    for j in sWordFreq:\n",
    "        if j in unigramsDist:\n",
    "            unigramsDist[j] += sWordFreq[j]\n",
    "        else:\n",
    "            unigramsDist[j] = sWordFreq[j]"
   ],
   "metadata": {
    "collapsed": false,
    "pycharm": {
     "name": "#%%\n"
    }
   }
  },
  {
   "cell_type": "code",
   "execution_count": 9,
   "outputs": [
    {
     "data": {
      "text/plain": "FreqDist({'i': 53897, 'you': 48499, 'the': 38415, 'to': 32727, 'a': 27702, 'it': 24061, 'and': 16938, 'is': 16825, 'that': 15957, 'do': 14682, ...})"
     },
     "execution_count": 9,
     "metadata": {},
     "output_type": "execute_result"
    }
   ],
   "source": [
    "unigramsDist"
   ],
   "metadata": {
    "collapsed": false,
    "pycharm": {
     "name": "#%%\n"
    }
   }
  },
  {
   "cell_type": "code",
   "execution_count": 6,
   "outputs": [],
   "source": [
    "#test\n",
    "# 加入未登录词\n",
    "for i in testset:\n",
    "    word = word_tokenize(i)  # 每一句的词频数字典\n",
    "    for j in word:\n",
    "        if j not in unigramsDist:\n",
    "            unigramsDist[j] = 0"
   ],
   "metadata": {
    "collapsed": false,
    "pycharm": {
     "name": "#%%\n"
    }
   }
  },
  {
   "cell_type": "code",
   "execution_count": 7,
   "outputs": [],
   "source": [
    "# 频数转化为频率  使用加一平滑法   unigramsDist.B()表示每个词都加一后的增加量\n",
    "s = unigramsDist.N() + unigramsDist.B()\n",
    "unigramsFreq = FreqDist()\n",
    "for i in unigramsDist:\n",
    "    unigramsFreq[i] = (unigramsDist[i] + 1) / s"
   ],
   "metadata": {
    "collapsed": false,
    "pycharm": {
     "name": "#%%\n"
    }
   }
  },
  {
   "cell_type": "code",
   "execution_count": 8,
   "outputs": [],
   "source": [
    "ppt = []\n",
    "for sentence in testset:\n",
    "    logprob = 0\n",
    "    wt = 0\n",
    "    for word in word_tokenize(sentence):\n",
    "        if word in unigramsFreq:\n",
    "            logprob += log(unigramsFreq[word],2)\n",
    "            wt += 1\n",
    "    if wt > 0:\n",
    "        ppt.append([sentence,pow(2,-(logprob/wt))])"
   ],
   "metadata": {
    "collapsed": false,
    "pycharm": {
     "name": "#%%\n"
    }
   }
  },
  {
   "cell_type": "code",
   "execution_count": 9,
   "outputs": [
    {
     "name": "stdout",
     "output_type": "stream",
     "text": [
      "一元语法模型的困惑度: 885.5405291108561\n"
     ]
    }
   ],
   "source": [
    "temp = 0\n",
    "for i in ppt:\n",
    "    temp += i[1]\n",
    "print(\"一元语法模型的困惑度:\", temp/len(ppt))#885.5405291108561"
   ],
   "metadata": {
    "collapsed": false,
    "pycharm": {
     "name": "#%%\n"
    }
   }
  },
  {
   "cell_type": "markdown",
   "source": [
    "bi-gram"
   ],
   "metadata": {
    "collapsed": false,
    "pycharm": {
     "name": "#%% md\n"
    }
   }
  },
  {
   "cell_type": "code",
   "execution_count": 10,
   "outputs": [],
   "source": [
    "#train\n",
    "w2gram = {}     # 可能存在的以w为开头的2-gram的种类数量\n",
    "bigramsDist = FreqDist()\n",
    "for sentence in dataset:\n",
    "    sWordFreq = FreqDist(bigrams(word_tokenize(sentence)))\n",
    "    for j in sWordFreq:\n",
    "        if j in bigramsDist:\n",
    "            bigramsDist[j] += sWordFreq[j]\n",
    "        else:\n",
    "            bigramsDist[j] = sWordFreq[j]\n",
    "            if j[0] in w2gram:\n",
    "                w2gram[j[0]] += 1\n",
    "            else:\n",
    "                w2gram[j[0]] = 1"
   ],
   "metadata": {
    "collapsed": false,
    "pycharm": {
     "name": "#%%\n"
    }
   }
  },
  {
   "cell_type": "code",
   "execution_count": 11,
   "outputs": [],
   "source": [
    "#test\n",
    "# 加入未登录词\n",
    "# 由于将每种未出现的2-gram一一列举会生成vacab size * vocab size大小的bigramsDist，为节省时间和空间，此处只加入test中出现的2-gram\n",
    "for sentence in testset:\n",
    "    word = bigrams(word_tokenize(sentence))\n",
    "    for j in word:\n",
    "        if j not in bigramsDist:\n",
    "            bigramsDist[j] = 0\n",
    "\n",
    "            if j[0] in w2gram:\n",
    "                w2gram[j[0]] += 1\n",
    "            else:\n",
    "                w2gram[j[0]] = 1"
   ],
   "metadata": {
    "collapsed": false,
    "pycharm": {
     "name": "#%%\n"
    }
   }
  },
  {
   "cell_type": "code",
   "execution_count": 12,
   "outputs": [],
   "source": [
    "# 频数转化为频率  使用加一平滑法\n",
    "history = {}    # 以w为历史的2-gram的数量和\n",
    "for i in bigramsDist:\n",
    "    if i[0] in history:\n",
    "        history[i[0]] += bigramsDist[i]\n",
    "    else:\n",
    "        history[i[0]] = bigramsDist[i]\n",
    "bigramsFreq = FreqDist()\n",
    "for i in bigramsDist:\n",
    "    bigramsFreq[i] = (bigramsDist[i] + 1) / (history[i[0]] + w2gram[i[0]])"
   ],
   "metadata": {
    "collapsed": false,
    "pycharm": {
     "name": "#%%\n"
    }
   }
  },
  {
   "cell_type": "code",
   "execution_count": 13,
   "outputs": [],
   "source": [
    "ppt = []\n",
    "for sentence in testset:\n",
    "    logprob = 0\n",
    "    wt = 0\n",
    "    for word in bigrams(word_tokenize(sentence)):\n",
    "        if word in bigramsFreq:\n",
    "            logprob += log(bigramsFreq[word],2)\n",
    "            wt += 1\n",
    "    if wt > 0:\n",
    "        ppt.append([sentence,pow(2,-(logprob/wt))])"
   ],
   "metadata": {
    "collapsed": false,
    "pycharm": {
     "name": "#%%\n"
    }
   }
  },
  {
   "cell_type": "code",
   "execution_count": 14,
   "outputs": [
    {
     "name": "stdout",
     "output_type": "stream",
     "text": [
      "二元语法模型的困惑度: 68.33554824217941\n"
     ]
    }
   ],
   "source": [
    "temp = 0\n",
    "for i in ppt:\n",
    "    temp += i[1]\n",
    "print(\"二元语法模型的困惑度:\", temp/len(ppt))#68.33554824217941"
   ],
   "metadata": {
    "collapsed": false,
    "pycharm": {
     "name": "#%%\n"
    }
   }
  }
 ],
 "metadata": {
  "kernelspec": {
   "name": "69t112",
   "language": "python",
   "display_name": "69t112"
  },
  "language_info": {
   "codemirror_mode": {
    "name": "ipython",
    "version": 2
   },
   "file_extension": ".py",
   "mimetype": "text/x-python",
   "name": "python",
   "nbconvert_exporter": "python",
   "pygments_lexer": "ipython2",
   "version": "2.7.6"
  }
 },
 "nbformat": 4,
 "nbformat_minor": 0
}