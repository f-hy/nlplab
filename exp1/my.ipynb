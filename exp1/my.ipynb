{
 "cells": [
  {
   "cell_type": "code",
   "execution_count": 1,
   "metadata": {
    "collapsed": true,
    "pycharm": {
     "name": "#%%\n"
    }
   },
   "outputs": [],
   "source": [
    "# https://blog.csdn.net/weixin_43597287/article/details/98745498\n",
    "from nltk.tokenize import word_tokenize\n",
    "from nltk import bigrams, FreqDist\n",
    "from math import log\n",
    "from collections import defaultdict\n",
    "import nltk\n",
    "from math import log"
   ]
  },
  {
   "cell_type": "code",
   "execution_count": 2,
   "outputs": [],
   "source": [
    "train_file_path = \"train_LM.txt\"\n",
    "test_file_path = \"test_LM.txt\"\n",
    "symbols = ',.?!:;<>/'\n",
    "trainset = open(file=train_file_path, mode=\"r+\", encoding=\"utf8\").read().lower().translate(str.maketrans(symbols, ' ' * len(symbols))).split(\"__eou__\")\n",
    "testset = open(file=test_file_path, mode=\"r+\", encoding=\"utf8\").read().lower().translate(str.maketrans(symbols, ' ' * len(symbols))).split(\"__eou__\")"
   ],
   "metadata": {
    "collapsed": false,
    "pycharm": {
     "name": "#%%\n"
    }
   }
  },
  {
   "cell_type": "code",
   "execution_count": 7,
   "outputs": [],
   "source": [
    "\n",
    "# for sentence in trainset:\n",
    "fd = FreqDist(word_tokenize(trainset[0]))"
   ],
   "metadata": {
    "collapsed": false,
    "pycharm": {
     "name": "#%%\n"
    }
   }
  },
  {
   "cell_type": "code",
   "execution_count": 37,
   "outputs": [
    {
     "data": {
      "text/plain": "'!\"#$%&\\'()*+,-./:;<=>?@[\\\\]^`{|}~'"
     },
     "execution_count": 37,
     "metadata": {},
     "output_type": "execute_result"
    }
   ],
   "source": [
    "from string import punctuation\n",
    "punctuation.replace(\"_\",\"\")"
   ],
   "metadata": {
    "collapsed": false,
    "pycharm": {
     "name": "#%%\n"
    }
   }
  },
  {
   "cell_type": "markdown",
   "source": [
    "![img](https://img-blog.csdnimg.cn/3776dfeb6a9d474a831fe3a5e721cbe4.png?x-oss-process=image/watermark,type_d3F5LXplbmhlaQ,shadow_50,text_Q1NETiBA6ZW_5ZG955m-5bKB77iP,size_20,color_FFFFFF,t_70,g_se,x_16#pic_center)"
   ],
   "metadata": {
    "collapsed": false,
    "pycharm": {
     "name": "#%% md\n"
    }
   }
  }
 ],
 "metadata": {
  "kernelspec": {
   "name": "69t112",
   "language": "python",
   "display_name": "69t112"
  },
  "language_info": {
   "codemirror_mode": {
    "name": "ipython",
    "version": 2
   },
   "file_extension": ".py",
   "mimetype": "text/x-python",
   "name": "python",
   "nbconvert_exporter": "python",
   "pygments_lexer": "ipython2",
   "version": "2.7.6"
  }
 },
 "nbformat": 4,
 "nbformat_minor": 0
}