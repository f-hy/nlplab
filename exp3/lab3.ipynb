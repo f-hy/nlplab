{
 "cells": [
  {
   "cell_type": "code",
   "execution_count": 1,
   "metadata": {
    "collapsed": true,
    "pycharm": {
     "name": "#%%\n"
    }
   },
   "outputs": [],
   "source": [
    "import sys\n",
    "sys.path.append(\"../frid\")\n",
    "from temp import get_txt\n",
    "ct = get_txt(\"Chinese.txt\")\n",
    "et = get_txt(\"English.txt\")"
   ]
  },
  {
   "cell_type": "code",
   "execution_count": 2,
   "metadata": {
    "collapsed": false,
    "pycharm": {
     "name": "#%%\n"
    }
   },
   "outputs": [],
   "source": [
    "# 69t112: jieba,nltk,SnowNLP,THULAC,NLPIR(PyNLPIR),spacy\n",
    "# pyhanlp: StandfordCoreNLP,HanLP"
   ]
  },
  {
   "cell_type": "markdown",
   "metadata": {
    "collapsed": false,
    "pycharm": {
     "name": "#%% md\n"
    }
   },
   "source": [
    "#### 英文工具：\n",
    "\n",
    "Nltk：\n",
    "http://www.nltk.org/index.html\n",
    "https://github.com/nltk/nltk\n",
    "https://www.jianshu.com/p/9d232e4a3c28"
   ]
  },
  {
   "cell_type": "code",
   "execution_count": 7,
   "metadata": {
    "collapsed": false,
    "pycharm": {
     "name": "#%%\n"
    }
   },
   "outputs": [
    {
     "name": "stdout",
     "output_type": "stream",
     "text": [
      "tagged:  [('Xi', 'NN'), ('Jinping', 'NNP'), (',', ','), ('male', 'NN'), (',', ','), ('Han', 'NNP'), ('ethnicity', 'NN'), (',', ','), ('was', 'VBD'), ('born', 'VBN'), ('in', 'IN'), ('June', 'NNP'), ('1953', 'CD'), ('and', 'CC'), ('is', 'VBZ'), ('from', 'IN'), ('Fuping', 'VBG'), (',', ','), ('Shaanxi', 'NNP'), ('Province', 'NNP'), ('.', '.'), ('He', 'PRP'), ('began', 'VBD'), ('his', 'PRP$'), ('first', 'JJ'), ('job', 'NN'), ('in', 'IN'), ('January', 'NNP'), ('1969', 'CD'), ('and', 'CC'), ('joined', 'VBD'), ('the', 'DT'), ('Communist', 'NNP'), ('Party', 'NNP'), ('of', 'IN'), ('China', 'NNP'), ('(', '('), ('CPC', 'NNP'), (')', ')'), ('in', 'IN'), ('January', 'NNP'), ('1974', 'CD'), ('.', '.'), ('Xi', 'VB'), ('graduated', 'VBN'), ('from', 'IN'), ('School', 'NNP'), ('of', 'IN'), ('Humanities', 'NNP'), ('and', 'CC'), ('Social', 'NNP'), ('Sciences', 'NNPS'), (',', ','), ('Tsinghua', 'NNP'), ('University', 'NNP'), ('where', 'WRB'), ('he', 'PRP'), ('completed', 'VBD'), ('an', 'DT'), ('in-service', 'JJ'), ('graduate', 'NN'), ('program', 'NN'), ('in', 'IN'), ('Marxist', 'NNP'), ('theory', 'NN'), ('and', 'CC'), ('ideological', 'JJ'), ('and', 'CC'), ('political', 'JJ'), ('education', 'NN'), ('.', '.'), ('He', 'PRP'), ('holds', 'VBZ'), ('a', 'DT'), ('Doctor', 'NNP'), ('of', 'IN'), ('Law', 'NNP'), ('degree', 'NN'), ('.', '.'), ('Xi', 'NN'), ('is', 'VBZ'), ('currently', 'RB'), ('General', 'NNP'), ('Secretary', 'NNP'), ('of', 'IN'), ('the', 'DT'), ('CPC', 'NNP'), ('Central', 'NNP'), ('Committee', 'NNP'), (',', ','), ('Chairman', 'NNP'), ('of', 'IN'), ('the', 'DT'), ('CPC', 'NNP'), ('Central', 'NNP'), ('Military', 'NNP'), ('Commission', 'NNP'), (',', ','), ('President', 'NNP'), ('of', 'IN'), ('the', 'DT'), ('People', 'NNP'), (\"'s\", 'POS'), ('Republic', 'NNP'), ('of', 'IN'), ('China', 'NNP'), ('(', '('), ('PRC', 'NNP'), (')', ')'), (',', ','), ('and', 'CC'), ('Chairman', 'NNP'), ('of', 'IN'), ('the', 'DT'), ('PRC', 'NNP'), ('Central', 'NNP'), ('Military', 'NNP'), ('Commission', 'NNP'), ('.', '.')]\n",
      "entities:  (S\n",
      "  Xi/NN\n",
      "  Jinping/NNP\n",
      "  ,/,\n",
      "  male/NN\n",
      "  ,/,\n",
      "  (PERSON Han/NNP)\n",
      "  ethnicity/NN\n",
      "  ,/,\n",
      "  was/VBD\n",
      "  born/VBN\n",
      "  in/IN\n",
      "  June/NNP\n",
      "  1953/CD\n",
      "  and/CC\n",
      "  is/VBZ\n",
      "  from/IN\n",
      "  Fuping/VBG\n",
      "  ,/,\n",
      "  (PERSON Shaanxi/NNP Province/NNP)\n",
      "  ./.\n",
      "  He/PRP\n",
      "  began/VBD\n",
      "  his/PRP$\n",
      "  first/JJ\n",
      "  job/NN\n",
      "  in/IN\n",
      "  January/NNP\n",
      "  1969/CD\n",
      "  and/CC\n",
      "  joined/VBD\n",
      "  the/DT\n",
      "  (ORGANIZATION Communist/NNP Party/NNP)\n",
      "  of/IN\n",
      "  (GPE China/NNP)\n",
      "  (/(\n",
      "  (ORGANIZATION CPC/NNP)\n",
      "  )/)\n",
      "  in/IN\n",
      "  January/NNP\n",
      "  1974/CD\n",
      "  ./.\n",
      "  Xi/VB\n",
      "  graduated/VBN\n",
      "  from/IN\n",
      "  (ORGANIZATION School/NNP)\n",
      "  of/IN\n",
      "  (ORGANIZATION Humanities/NNP)\n",
      "  and/CC\n",
      "  (ORGANIZATION Social/NNP Sciences/NNPS)\n",
      "  ,/,\n",
      "  (ORGANIZATION Tsinghua/NNP University/NNP)\n",
      "  where/WRB\n",
      "  he/PRP\n",
      "  completed/VBD\n",
      "  an/DT\n",
      "  in-service/JJ\n",
      "  graduate/NN\n",
      "  program/NN\n",
      "  in/IN\n",
      "  (GPE Marxist/NNP)\n",
      "  theory/NN\n",
      "  and/CC\n",
      "  ideological/JJ\n",
      "  and/CC\n",
      "  political/JJ\n",
      "  education/NN\n",
      "  ./.\n",
      "  He/PRP\n",
      "  holds/VBZ\n",
      "  a/DT\n",
      "  Doctor/NNP\n",
      "  of/IN\n",
      "  (GPE Law/NNP)\n",
      "  degree/NN\n",
      "  ./.\n",
      "  Xi/NN\n",
      "  is/VBZ\n",
      "  currently/RB\n",
      "  (ORGANIZATION General/NNP)\n",
      "  Secretary/NNP\n",
      "  of/IN\n",
      "  the/DT\n",
      "  (ORGANIZATION CPC/NNP Central/NNP Committee/NNP)\n",
      "  ,/,\n",
      "  Chairman/NNP\n",
      "  of/IN\n",
      "  the/DT\n",
      "  (ORGANIZATION CPC/NNP Central/NNP)\n",
      "  Military/NNP\n",
      "  Commission/NNP\n",
      "  ,/,\n",
      "  President/NNP\n",
      "  of/IN\n",
      "  the/DT\n",
      "  (ORGANIZATION People/NNP)\n",
      "  's/POS\n",
      "  (ORGANIZATION Republic/NNP)\n",
      "  of/IN\n",
      "  (GPE China/NNP)\n",
      "  (/(\n",
      "  (ORGANIZATION PRC/NNP)\n",
      "  )/)\n",
      "  ,/,\n",
      "  and/CC\n",
      "  Chairman/NNP\n",
      "  of/IN\n",
      "  the/DT\n",
      "  (ORGANIZATION PRC/NNP Central/NNP)\n",
      "  Military/NNP\n",
      "  Commission/NNP\n",
      "  ./.)\n"
     ]
    }
   ],
   "source": [
    "import nltk\n",
    "nltk.data.path.append(r\"D:\\App\\Anaconda3\\envs\\69t112\\Lib\\nltk_data\")\n",
    "tagged = nltk.pos_tag(nltk.word_tokenize(et))\n",
    "entities = nltk.chunk.ne_chunk(tagged)\n",
    "print(\"tagged: \", tagged)\n",
    "print(\"entities: \", entities)"
   ]
  },
  {
   "cell_type": "markdown",
   "metadata": {
    "collapsed": false,
    "pycharm": {
     "name": "#%% md\n"
    }
   },
   "source": [
    "Spacy：\n",
    "https://blog.csdn.net/u012436149/article/details/79321112\n",
    "https://spacy.io/usage/linguistic-features#section-tokenization"
   ]
  },
  {
   "cell_type": "code",
   "execution_count": 9,
   "metadata": {
    "collapsed": false,
    "pycharm": {
     "name": "#%%\n"
    }
   },
   "outputs": [
    {
     "name": "stderr",
     "output_type": "stream",
     "text": [
      "d:\\App\\Anaconda3\\envs\\69t112\\lib\\site-packages\\tensorflow\\python\\framework\\dtypes.py:523: FutureWarning: Passing (type, 1) or '1type' as a synonym of type is deprecated; in a future version of numpy, it will be understood as (type, (1,)) / '(1,)type'.\n",
      "  _np_qint8 = np.dtype([(\"qint8\", np.int8, 1)])\n",
      "d:\\App\\Anaconda3\\envs\\69t112\\lib\\site-packages\\tensorflow\\python\\framework\\dtypes.py:524: FutureWarning: Passing (type, 1) or '1type' as a synonym of type is deprecated; in a future version of numpy, it will be understood as (type, (1,)) / '(1,)type'.\n",
      "  _np_quint8 = np.dtype([(\"quint8\", np.uint8, 1)])\n",
      "d:\\App\\Anaconda3\\envs\\69t112\\lib\\site-packages\\tensorflow\\python\\framework\\dtypes.py:525: FutureWarning: Passing (type, 1) or '1type' as a synonym of type is deprecated; in a future version of numpy, it will be understood as (type, (1,)) / '(1,)type'.\n",
      "  _np_qint16 = np.dtype([(\"qint16\", np.int16, 1)])\n",
      "d:\\App\\Anaconda3\\envs\\69t112\\lib\\site-packages\\tensorflow\\python\\framework\\dtypes.py:526: FutureWarning: Passing (type, 1) or '1type' as a synonym of type is deprecated; in a future version of numpy, it will be understood as (type, (1,)) / '(1,)type'.\n",
      "  _np_quint16 = np.dtype([(\"quint16\", np.uint16, 1)])\n",
      "d:\\App\\Anaconda3\\envs\\69t112\\lib\\site-packages\\tensorflow\\python\\framework\\dtypes.py:527: FutureWarning: Passing (type, 1) or '1type' as a synonym of type is deprecated; in a future version of numpy, it will be understood as (type, (1,)) / '(1,)type'.\n",
      "  _np_qint32 = np.dtype([(\"qint32\", np.int32, 1)])\n",
      "d:\\App\\Anaconda3\\envs\\69t112\\lib\\site-packages\\tensorflow\\python\\framework\\dtypes.py:532: FutureWarning: Passing (type, 1) or '1type' as a synonym of type is deprecated; in a future version of numpy, it will be understood as (type, (1,)) / '(1,)type'.\n",
      "  np_resource = np.dtype([(\"resource\", np.ubyte, 1)])\n"
     ]
    },
    {
     "name": "stdout",
     "output_type": "stream",
     "text": [
      "[{'Xi': 'PROPN'}, {'Jinping': 'PROPN'}, {',': 'PUNCT'}, {'male': 'ADJ'}, {',': 'PUNCT'}, {'Han': 'PROPN'}, {'ethnicity': 'NOUN'}, {',': 'PUNCT'}, {'was': 'AUX'}, {'born': 'VERB'}, {'in': 'ADP'}, {'June': 'PROPN'}, {'1953': 'NUM'}, {'and': 'CCONJ'}, {'is': 'VERB'}, {'from': 'ADP'}, {'Fuping': 'PROPN'}, {',': 'PUNCT'}, {'Shaanxi': 'PROPN'}, {'Province': 'PROPN'}, {'.': 'PUNCT'}, {'He': 'PRON'}, {'began': 'VERB'}, {'his': 'PRON'}, {'first': 'ADJ'}, {'job': 'NOUN'}, {'in': 'ADP'}, {'January': 'PROPN'}, {'1969': 'NUM'}, {'and': 'CCONJ'}, {'joined': 'VERB'}, {'the': 'DET'}, {'Communist': 'PROPN'}, {'Party': 'PROPN'}, {'of': 'ADP'}, {'China': 'PROPN'}, {'(': 'PUNCT'}, {'CPC': 'PROPN'}, {')': 'PUNCT'}, {'in': 'ADP'}, {'January': 'PROPN'}, {'1974': 'NUM'}, {'.': 'PUNCT'}, {'Xi': 'PROPN'}, {'graduated': 'VERB'}, {'from': 'ADP'}, {'School': 'PROPN'}, {'of': 'ADP'}, {'Humanities': 'PROPN'}, {'and': 'CCONJ'}, {'Social': 'PROPN'}, {'Sciences': 'PROPN'}, {',': 'PUNCT'}, {'Tsinghua': 'PROPN'}, {'University': 'PROPN'}, {'where': 'ADV'}, {'he': 'PRON'}, {'completed': 'VERB'}, {'an': 'DET'}, {'in': 'ADP'}, {'-': 'PUNCT'}, {'service': 'NOUN'}, {'graduate': 'NOUN'}, {'program': 'NOUN'}, {'in': 'ADP'}, {'Marxist': 'ADJ'}, {'theory': 'NOUN'}, {'and': 'CCONJ'}, {'ideological': 'ADJ'}, {'and': 'CCONJ'}, {'political': 'ADJ'}, {'education': 'NOUN'}, {'.': 'PUNCT'}, {'He': 'PRON'}, {'holds': 'VERB'}, {'a': 'DET'}, {'Doctor': 'PROPN'}, {'of': 'ADP'}, {'Law': 'PROPN'}, {'degree': 'NOUN'}, {'.': 'PUNCT'}, {'Xi': 'PROPN'}, {'is': 'AUX'}, {'currently': 'ADV'}, {'General': 'PROPN'}, {'Secretary': 'PROPN'}, {'of': 'ADP'}, {'the': 'DET'}, {'CPC': 'PROPN'}, {'Central': 'PROPN'}, {'Committee': 'PROPN'}, {',': 'PUNCT'}, {'Chairman': 'PROPN'}, {'of': 'ADP'}, {'the': 'DET'}, {'CPC': 'PROPN'}, {'Central': 'PROPN'}, {'Military': 'PROPN'}, {'Commission': 'PROPN'}, {',': 'PUNCT'}, {'President': 'PROPN'}, {'of': 'ADP'}, {'the': 'DET'}, {'People': 'PROPN'}, {\"'s\": 'PART'}, {'Republic': 'PROPN'}, {'of': 'ADP'}, {'China': 'PROPN'}, {'(': 'PUNCT'}, {'PRC': 'PROPN'}, {')': 'PUNCT'}, {',': 'PUNCT'}, {'and': 'CCONJ'}, {'Chairman': 'PROPN'}, {'of': 'ADP'}, {'the': 'DET'}, {'PRC': 'PROPN'}, {'Central': 'PROPN'}, {'Military': 'PROPN'}, {'Commission': 'PROPN'}, {'.': 'PUNCT'}]\n"
     ]
    }
   ],
   "source": [
    "import spacy\n",
    "doc = spacy.load(\"en_core_web_sm\")\n",
    "doc = doc(et)\n",
    "tagged = [{token.text: token.pos_} for token in doc]\n",
    "print(tagged)"
   ]
  },
  {
   "cell_type": "markdown",
   "metadata": {
    "collapsed": false,
    "pycharm": {
     "name": "#%% md\n"
    }
   },
   "source": [
    "Stanfordnlp：\n",
    "https://github.com/Lynten/stanford-corenlp"
   ]
  },
  {
   "cell_type": "code",
   "execution_count": 8,
   "metadata": {},
   "outputs": [
    {
     "name": "stdout",
     "output_type": "stream",
     "text": [
      "[('Xi', 'NR'), ('Jinping', 'NR'), (',', 'PU'), ('male', 'NN'), (',', 'PU'), ('Han', 'NR'), ('ethnicity', 'NR'), (',', 'PU'), ('was', 'AD'), ('born', 'VV'), ('in', 'P'), ('June', 'NN'), ('1953', 'NT'), ('and', 'CC'), ('is', 'VC'), ('from', 'P'), ('Fuping', 'NR'), (',', 'PU'), ('Shaanxi', 'NR'), ('Province', 'NN'), ('.', 'PU'), ('He', 'NN'), ('began', 'NN'), ('his', 'AD'), ('first', 'VV'), ('job', 'NN'), ('in', 'P'), ('January', 'NT'), ('1969', 'NT'), ('and', 'CC'), ('joined', 'VV'), ('the', 'DT'), ('Communist', 'NN'), ('Party', 'NN'), ('of', 'P'), ('China', 'NR'), ('(', 'PU'), ('CPC', 'NR'), (')', 'PU'), ('in', 'P'), ('January', 'NT'), ('1974', 'NT'), ('.', 'PU'), ('Xi', 'NR'), ('graduated', 'VV'), ('from', 'P'), ('School', 'NN'), ('of', 'P'), ('Humanities', 'NR'), ('and', 'CC'), ('Social', 'JJ'), ('Sciences', 'NN'), (',', 'PU'), ('Tsinghua', 'NR'), ('University', 'NN'), ('where', 'NN'), ('he', 'NN'), ('completed', 'VV'), ('an', 'NR'), ('in-service', 'JJ'), ('graduate', 'NN'), ('program', 'NN'), ('in', 'P'), ('Marxist', 'NN'), ('theory', 'NN'), ('and', 'CC'), ('ideological', 'JJ'), ('and', 'CC'), ('political', 'JJ'), ('education.', 'NN'), ('He', 'NN'), ('holds', 'NN'), ('a', 'NN'), ('Doctor', 'NN'), ('of', 'P'), ('Law', 'JJ'), ('degree.', 'NN'), ('Xi', 'VV'), ('is', 'VC'), ('currently', 'NR'), ('General', 'NN'), ('Secretary', 'NN'), ('of', 'P'), ('the', 'DT'), ('CPC', 'NN'), ('Central', 'JJ'), ('Committee', 'NN'), (',', 'PU'), ('Chairman', 'NR'), ('of', 'P'), ('the', 'DT'), ('CPC', 'NN'), ('Central', 'JJ'), ('Military', 'NN'), ('Commission', 'NN'), (',', 'PU'), ('President', 'NN'), ('of', 'P'), ('the', 'DT'), (\"People's\", 'NN'), ('Republic', 'NN'), ('of', 'P'), ('China', 'NR'), ('(', 'PU'), ('PRC', 'NR'), (')', 'PU'), (',', 'PU'), ('and', 'CC'), ('Chairman', 'NR'), ('of', 'P'), ('the', 'DT'), ('PRC', 'NN'), ('Central', 'NN'), ('Military', 'NR'), ('Commission', 'NN'), ('.', 'PU')]\n"
     ]
    }
   ],
   "source": [
    "from stanfordcorenlp import StanfordCoreNLP\n",
    "with StanfordCoreNLP(r'F:\\envs\\datas\\stanford-corenlp-full-2018-02-27',\n",
    "                     lang='zh') as nlp:\n",
    "    print(nlp.pos_tag(et))"
   ]
  },
  {
   "cell_type": "markdown",
   "metadata": {
    "collapsed": false,
    "pycharm": {
     "name": "#%% md\n"
    }
   },
   "source": [
    "**中文工具：** （部分工具命名实体识别没有直接调用的函数，可以根据词性标注的结果自己实现）\n",
    "\n",
    "Jieba：\n",
    "https://github.com/fxsjy/jieba"
   ]
  },
  {
   "cell_type": "code",
   "execution_count": 13,
   "metadata": {},
   "outputs": [
    {
     "name": "stderr",
     "output_type": "stream",
     "text": [
      "Paddle enabled successfully......\n"
     ]
    },
    {
     "name": "stdout",
     "output_type": "stream",
     "text": [
      "[{'3月23日下午': 'TIME'}, {'，“': 'v'}, {'青年': 'n'}, {'报杯赛': 'n'}, {'”U': 'v'}, {'19': 'm'}, {'邀请赛': 'n'}, {'在': 'p'}, {'越南': 'LOC'}, {'芽庄': 'LOC'}, {'进行': 'v'}, {'，': 'n'}, {'前': 'f'}, {'国脚': 'n'}, {'曲波': 'PER'}, {'挂帅': 'v'}, {'的': 'u'}, {'中国': 'LOC'}, {'U': 'v'}, {'19': 'm'}, {'B队': 'n'}, {'迎战': 'v'}, {'泰国': 'LOC'}, {'U': 'v'}, {'19': 'm'}, {'，': 'v'}, {'上半场': 'TIME'}, {'国青队': 'ORG'}, {'的': 'u'}, {'门户': 'n'}, {'大开，': 'v'}, {'泰国': 'LOC'}, {'在': 'p'}, {'第11分钟': 'TIME'}, {'和': 'c'}, {'第17分钟': 'TIME'}, {'连': 'd'}, {'进': 'v'}, {'2': 'm'}, {'球': 'n'}, {'，': 'v'}, {'半场': 'n'}, {'国青': 'n'}, {'0': 'm'}, {'射门': 'v'}, {'0': 'm'}, {'角球': 'n'}, {'，': 'v'}, {'几乎': 'd'}, {'被': 'p'}, {'完全': 'd'}, {'压制': 'v'}, {'。': 'v'}, {'下半场': 'TIME'}, {'，国青': 'PER'}, {'的': 'u'}, {'进攻': 'vn'}, {'一度': 'd'}, {'有所': 'v'}, {'起色': 'n'}, {'，': 'n'}, {'并': 'c'}, {'由': 'p'}, {'马辅渔': 'PER'}, {'利用': 'v'}, {'远射': 'vn'}, {'扳回': 'v'}, {'一': 'm'}, {'球': 'n'}, {'，': 'v'}, {'但': 'c'}, {'最终': 'ad'}, {'未能': 'v'}, {'扳平': 'v'}, {'比分': 'n'}, {'。': 'v'}, {'全场': 'n'}, {'比赛': 'vn'}, {'结束': 'v'}, {'，国青1-2输球，': 'nz'}, {'继': 'v'}, {'中国': 'LOC'}, {'杯': 'n'}, {'国足': 'ORG'}, {'0': 'm'}, {'-': 'w'}, {'1': 'm'}, {'输': 'v'}, {'给': 'p'}, {'泰国': 'LOC'}, {'之后': 'f'}, {'，': 'v'}, {'3天内': 'TIME'}, {'遭遇': 'v'}, {'泰国': 'LOC'}, {'足球': 'n'}, {'双杀': 'v'}, {'。': 'n'}]\n"
     ]
    }
   ],
   "source": [
    "import jieba\n",
    "import jieba.posseg as pseg\n",
    "jieba.enable_paddle()\n",
    "words = pseg.cut(ct,use_paddle=True)\n",
    "ans = []\n",
    "for word,flag in words:\n",
    "    ans.append({word: flag})\n",
    "print(ans)"
   ]
  },
  {
   "cell_type": "markdown",
   "metadata": {
    "collapsed": false,
    "pycharm": {
     "name": "#%% md\n"
    }
   },
   "source": [
    "StanfordCoreNLP：\n",
    "https://github.com/Lynten/stanford-corenlp"
   ]
  },
  {
   "cell_type": "code",
   "execution_count": 7,
   "metadata": {},
   "outputs": [
    {
     "name": "stdout",
     "output_type": "stream",
     "text": [
      "[('3月', 'NT'), ('23日', 'NT'), ('下午', 'NT'), ('，', 'PU'), ('“', 'PU'), ('青年报', 'NN'), ('杯赛', 'NN'), ('”', 'PU'), ('U19', 'NN'), ('邀请赛', 'NN'), ('在', 'P'), ('越南', 'NR'), ('芽', 'NN'), ('庄', 'NR'), ('进行', 'VV'), ('，', 'PU'), ('前', 'JJ'), ('国脚', 'NN'), ('曲波', 'NR'), ('挂帅', 'VV'), ('的', 'DEC'), ('中国', 'NR'), ('U19', 'NN'), ('B', 'NN'), ('队', 'NN'), ('迎战', 'VV'), ('泰国', 'NR'), ('U19', 'NN'), ('，', 'PU'), ('上半场', 'NN'), ('国青队', 'NR'), ('的', 'DEG'), ('门户', 'NN'), ('大开', 'VV'), ('，', 'PU'), ('泰国', 'NR'), ('在', 'P'), ('第11', 'OD'), ('分钟', 'M'), ('和', 'CC'), ('第17', 'OD'), ('分钟', 'M'), ('连', 'AD'), ('进', 'VV'), ('2', 'CD'), ('球', 'NN'), ('，', 'PU'), ('半场', 'NN'), ('国青', 'NN'), ('0', 'CD'), ('射门', 'VV'), ('0', 'CD'), ('角球', 'NN'), ('，', 'PU'), ('几乎', 'AD'), ('被', 'LB'), ('完全', 'AD'), ('压制', 'VV'), ('。', 'PU'), ('下半场', 'NN'), ('，', 'PU'), ('国青', 'VA'), ('的', 'DEC'), ('进攻', 'NN'), ('一度', 'AD'), ('有所', 'VV'), ('起色', 'NN'), ('，', 'PU'), ('并', 'AD'), ('由', 'P'), ('马辅渔', 'NR'), ('利用', 'VV'), ('远射', 'NN'), ('扳回', 'VV'), ('一', 'CD'), ('球', 'NN'), ('，', 'PU'), ('但', 'AD'), ('最终', 'AD'), ('未', 'AD'), ('能', 'VV'), ('扳平', 'VV'), ('比分', 'NN'), ('。', 'PU'), ('全', 'DT'), ('场', 'NN'), ('比赛', 'NN'), ('结束', 'VV'), ('，', 'PU'), ('国青', 'NN'), ('1-2', 'CD'), ('输球', 'VV'), ('，', 'PU'), ('继', 'P'), ('中国', 'NR'), ('杯', 'NN'), ('国足', 'NN'), ('0-1', 'NN'), ('输给', 'VV'), ('泰国', 'NR'), ('之后', 'LC'), ('，', 'PU'), ('3', 'CD'), ('天', 'M'), ('内', 'LC'), ('遭遇', 'VV'), ('泰国', 'NR'), ('足球', 'NN'), ('双杀', 'NN'), ('。', 'PU')]\n"
     ]
    }
   ],
   "source": [
    "from stanfordcorenlp import StanfordCoreNLP\n",
    "with StanfordCoreNLP(r'F:\\envs\\datas\\stanford-corenlp-full-2018-02-27',\n",
    "                     lang='zh') as nlp:\n",
    "    print(nlp.pos_tag(ct))"
   ]
  },
  {
   "cell_type": "markdown",
   "metadata": {
    "collapsed": false,
    "pycharm": {
     "name": "#%% md\n"
    }
   },
   "source": [
    "SnowNLP：\n",
    "https://github.com/isnowfy/snownlp\n",
    "https://www.jianshu.com/p/4692d1b5364d"
   ]
  },
  {
   "cell_type": "code",
   "execution_count": 14,
   "metadata": {},
   "outputs": [
    {
     "name": "stdout",
     "output_type": "stream",
     "text": [
      "[('3', 'ns'), ('月', 'n'), ('23', 'Rg'), ('日', 'Ng'), ('下午', 't'), ('，“', 't'), ('青年报', 'n'), ('杯赛', 'Dg'), ('”U19', 'Ag'), ('邀请赛', 'n'), ('在', 'p'), ('越南', 'ns'), ('芽', 'n'), ('庄', 'nr'), ('进行', 'v'), ('，', 'w'), ('前', 'f'), ('国', 'n'), ('脚曲', 'nr'), ('波', 'nr'), ('挂帅', 'v'), ('的', 'u'), ('中国', 'ns'), ('U19B', 'nz'), ('队', 'n'), ('迎战', 'v'), ('泰国', 'ns'), ('U19，', 'nz'), ('上半场', 'n'), ('国', 'n'), ('青队', 'f'), ('的', 'u'), ('门户', 'n'), ('大', 'd'), ('开', 'v'), ('，', 'w'), ('泰国', 'ns'), ('在', 'p'), ('第', 'm'), ('11', 'm'), ('分钟', 'q'), ('和', 'c'), ('第', 'm'), ('17', 'm'), ('分钟', 'q'), ('连', 'n'), ('进', 'v'), ('2', 'Bg'), ('球', 'n'), ('，', 'w'), ('半场', 'nt'), ('国', 'n'), ('青', 'nr'), ('0', 'nr'), ('射门', 'v'), ('0', 'u'), ('角球', 'n'), ('，', 'w'), ('几乎', 'd'), ('被', 'p'), ('完全', 'ad'), ('压制', 'v'), ('。', 'w'), ('下半场', 'n'), ('，', 'w'), ('国', 'n'), ('青', 'a'), ('的', 'u'), ('进攻', 'vn'), ('一度', 'd'), ('有所', 'v'), ('起色', 'n'), ('，', 'w'), ('并', 'c'), ('由', 'p'), ('马', 'nr'), ('辅', 'nr'), ('渔', 'Ng'), ('利用', 'v'), ('远射', 'v'), ('扳回', 'v'), ('一', 'm'), ('球', 'n'), ('，', 'w'), ('但', 'c'), ('最终', 'd'), ('未', 'd'), ('能', 'v'), ('扳平', 'h'), ('比分', 'n'), ('。', 'w'), ('全场', 'n'), ('比赛', 'vn'), ('结束', 'v'), ('，', 'w'), ('国', 'n'), ('青', 'nr'), ('1-2', 'nr'), ('输', 'v'), ('球', 'n'), ('，', 'w'), ('继', 'Vg'), ('中国', 'ns'), ('杯', 'q'), ('国', 'n'), ('足', 'd'), ('0-1', 'd'), ('输', 'v'), ('给', 'p'), ('泰国', 'ns'), ('之后', 'f'), ('，3', 'm'), ('天', 'q'), ('内', 'f'), ('遭遇', 'v'), ('泰国', 'ns'), ('足球', 'n'), ('双杀', 'Rg'), ('。', 'w')]\n"
     ]
    }
   ],
   "source": [
    "from snownlp import SnowNLP\n",
    "s = SnowNLP(ct)\n",
    "ans = []\n",
    "for i in s.tags:\n",
    "    ans.append(i)\n",
    "print(ans)"
   ]
  },
  {
   "cell_type": "markdown",
   "metadata": {
    "collapsed": false,
    "pycharm": {
     "name": "#%% md\n"
    }
   },
   "source": [
    "THULAC：\n",
    "https://github.com/thunlp/THULAC-Python"
   ]
  },
  {
   "cell_type": "code",
   "execution_count": 15,
   "metadata": {},
   "outputs": [
    {
     "name": "stdout",
     "output_type": "stream",
     "text": [
      "Model loaded succeed\n",
      "3月_t 23日_t 下午_t ，_w “_w 青年_n 报杯赛_n ”_w U_g 19_m 邀请赛_n 在_p 越南_ns 芽庄_ns 进行_v ，_w 前_f 国脚_n 曲波_np 挂帅_v 的_u 中国_ns U19B队_n 迎战_v 泰国_ns U19_x ，_w 上半场_n 国青队_ni 的_u 门户_n 大_d 开_v ，_w 泰国_ns 在_p 第11_m 分钟_q 和_c 第17_m 分钟_q 连_d 进_v 2_m 球_n ，_w 半_m 场_q 国青0_n 射门_v 0_v 角球_n ，_w 几乎_d 被_p 完全_a 压制_v 。_w 下半场_n ，_w 国青_a 的_u 进攻_v 一度_d 有所_v 起色_n ，_w 并_c 由_p 马辅渔_np 利用_v 远射_v 扳回_v 一_m 球_n ，_w 但_c 最终_d 未能_v 扳平_v 比分_n 。_w 全场_n 比赛_v 结束_v ，_w 国青_a 1_m -_w 2_m 输_v 球_n ，_w 继_g 中国_ns 杯国_ns 足0_m -_w 1_m 输_v 给_v 泰国_ns 之后_f ，_w 3_m 天_q 内_f 遭遇_v 泰国_ns 足球_n 双杀_a 。_w\n"
     ]
    }
   ],
   "source": [
    "import thulac\n",
    "thu1 = thulac.thulac()\n",
    "text = thu1.cut(ct,text=True)\n",
    "print(text)"
   ]
  },
  {
   "cell_type": "markdown",
   "metadata": {
    "collapsed": false,
    "pycharm": {
     "name": "#%% md\n"
    }
   },
   "source": [
    "NLPIR：\n",
    "https://github.com/tsroten/pynlpir\n",
    "https://blog.csdn.net/weixin_34613450/article/details/78695166"
   ]
  },
  {
   "cell_type": "code",
   "execution_count": 16,
   "metadata": {},
   "outputs": [
    {
     "name": "stdout",
     "output_type": "stream",
     "text": [
      "[('3月', 'time word'), ('23日', 'time word'), ('下午', 'time word'), ('，', 'punctuation mark'), ('“', 'punctuation mark'), ('青年报', 'multiword expression'), ('杯', 'noun'), ('赛', 'verb'), ('”', 'punctuation mark'), ('U19', 'noun'), ('邀请赛', 'noun'), ('在', 'preposition'), ('越南', 'noun'), ('芽', 'noun'), ('庄', 'noun'), ('进行', 'verb'), ('，', 'punctuation mark'), ('前', 'noun of locality'), ('国脚', 'noun'), ('曲波', 'noun'), ('挂帅', 'verb'), ('的', 'particle'), ('中国', 'noun'), ('U19B', 'noun'), ('队', 'noun'), ('迎战', 'verb'), ('泰国', 'noun'), ('U19', 'noun'), ('，', 'punctuation mark'), ('上半场', 'noun'), ('国青', 'noun'), ('队', 'noun'), ('的', 'particle'), ('门户', 'noun'), ('大', 'adverb'), ('开', 'verb'), ('，', 'punctuation mark'), ('泰国', 'noun'), ('在', 'preposition'), ('第11', 'numeral'), ('分钟', 'classifier'), ('和', 'conjunction'), ('第17', 'numeral'), ('分钟', 'classifier'), ('连', 'verb'), ('进', 'verb'), ('2', 'numeral'), ('球', 'noun'), ('，', 'punctuation mark'), ('半', 'numeral'), ('场', 'classifier'), ('国青', 'noun'), ('0', 'numeral'), ('射门', 'verb'), ('0', 'numeral'), ('角球', 'noun'), ('，', 'punctuation mark'), ('几乎', 'adverb'), ('被', 'preposition'), ('完全', 'adjective'), ('压制', 'verb'), ('。', 'punctuation mark'), ('下', 'verb'), ('半', 'numeral'), ('场', 'classifier'), ('，', 'punctuation mark'), ('国青', 'noun'), ('的', 'particle'), ('进攻', 'verb'), ('一度', 'adverb'), ('有所', 'verb'), ('起色', 'noun'), ('，', 'punctuation mark'), ('并', 'conjunction'), ('由', 'preposition'), ('马', 'noun'), ('辅', 'verb'), ('渔利', 'verb'), ('用', 'preposition'), ('远射', 'verb'), ('扳回', 'verb'), ('一', 'numeral'), ('球', 'noun'), ('，', 'punctuation mark'), ('但', 'conjunction'), ('最终', 'adverb'), ('未能', 'verb'), ('扳平', 'verb'), ('比分', 'noun'), ('。', 'punctuation mark'), ('全场', 'noun'), ('比赛', 'verb'), ('结束', 'verb'), ('，', 'punctuation mark'), ('国青', 'noun'), ('1-2', 'numeral'), ('输', 'verb'), ('球', 'noun'), ('，', 'punctuation mark'), ('继', 'verb'), ('中国', 'noun'), ('杯', 'noun'), ('国', 'noun'), ('足', 'adjective'), ('0-1', 'numeral'), ('输', 'verb'), ('给', 'preposition'), ('泰国', 'noun'), ('之后', 'noun of locality'), ('，', 'punctuation mark'), ('3', 'numeral'), ('天', 'classifier'), ('内', 'noun of locality'), ('遭遇', 'verb'), ('泰国', 'noun'), ('足球', 'noun'), ('双', 'numeral'), ('杀', 'verb'), ('。', 'punctuation mark')]\n"
     ]
    }
   ],
   "source": [
    "import pynlpir\n",
    "pynlpir.open()\n",
    "print(pynlpir.segment(ct))"
   ]
  },
  {
   "cell_type": "markdown",
   "metadata": {
    "collapsed": false,
    "pycharm": {
     "name": "#%% md\n"
    }
   },
   "source": [
    "HanLP（选做，需要 Microsoft Visual C++ 14.0）\n",
    "https://github.com/hankcs/pyhanlp"
   ]
  },
  {
   "cell_type": "code",
   "execution_count": 4,
   "metadata": {},
   "outputs": [
    {
     "name": "stdout",
     "output_type": "stream",
     "text": [
      "[3月/t, 23/m, 日/b, 下午/t, ，/w, “/w, 青年报/n, 杯赛/n, ”/w, U/nx, 19/m, 邀请赛/n, 在/p, 越南/nsf, 芽庄/nz, 进行/vn, ，/w, 前/f, 国脚/n, 曲波/nr, 挂帅/vi, 的/ude1, 中国/ns, U/nx, 19/m, B/nx, 队/n, 迎战/v, 泰国/nsf, U/nx, 19/m, ，/w, 上半场/n, 国青队/nt, 的/ude1, 门户/n, 大/a, 开/v, ，/w, 泰国/nsf, 在/p, 第/mq, 11/m, 分钟/qt, 和/cc, 第/mq, 17/m, 分钟/qt, 连进/a, 2/m, 球/n, ，/w, 半场/nz, 国青/nr, 0/m, 射门/vi, 0/m, 角球/n, ，/w, 几乎/d, 被/pbei, 完全/ad, 压制/v, 。/w, 下半场/n, ，/w, 国青/nr, 的/ude1, 进攻/vn, 一度/d, 有所/v, 起色/n, ，/w, 并/cc, 由/p, 马辅/nr, 渔利/vi, 用/p, 远射/v, 扳回/v, 一/m, 球/n, ，/w, 但/c, 最终/d, 未能/v, 扳平/v, 比分/n, 。/w, 全场/n, 比赛/vn, 结束/v, ，/w, 国青/nr, 1/m, -/nx, 2/m, 输球/v, ，/w, 继/vg, 中国杯/nz, 国足/nt, 0/m, -/nx, 1/m, 输给/v, 泰国/nsf, 之后/f, ，/w, 3/m, 天内/s, 遭遇/v, 泰国/nsf, 足球/n, 双杀/nz, 。/w]\n"
     ]
    }
   ],
   "source": [
    "from pyhanlp import HanLP\n",
    "print(HanLP.segment(ct))"
   ]
  },
  {
   "attachments": {},
   "cell_type": "markdown",
   "metadata": {},
   "source": [
    "CRF实践"
   ]
  },
  {
   "cell_type": "code",
   "execution_count": 1,
   "metadata": {},
   "outputs": [
    {
     "name": "stderr",
     "output_type": "stream",
     "text": [
      "Python 3.6.2 :: Continuum Analytics, Inc.\n"
     ]
    }
   ],
   "source": [
    "!python --version"
   ]
  },
  {
   "cell_type": "code",
   "execution_count": null,
   "metadata": {},
   "outputs": [
    {
     "name": "stdout",
     "output_type": "stream",
     "text": [
      "# conda environments:\n",
      "#\n",
      "base                     D:\\App\\Anaconda3\n",
      "69t112                *  D:\\App\\Anaconda3\\envs\\69t112\n",
      "pt1.12.0                 D:\\App\\Anaconda3\\envs\\pt1.12.0\n",
      "scrapyws                 D:\\App\\Anaconda3\\envs\\scrapyws\n",
      "                         F:\\envs\\p374\n",
      "\n"
     ]
    }
   ],
   "source": [
    "!conda env list"
   ]
  }
 ],
 "metadata": {
  "kernelspec": {
   "display_name": "69t112",
   "language": "python",
   "name": "python3"
  },
  "language_info": {
   "codemirror_mode": {
    "name": "ipython",
    "version": 3
   },
   "file_extension": ".py",
   "mimetype": "text/x-python",
   "name": "python",
   "nbconvert_exporter": "python",
   "pygments_lexer": "ipython3",
   "version": "3.6.2"
  }
 },
 "nbformat": 4,
 "nbformat_minor": 0
}
