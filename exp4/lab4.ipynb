{
 "cells": [
  {
   "cell_type": "code",
   "execution_count": 1,
   "metadata": {},
   "outputs": [],
   "source": [
    "import sys\n",
    "sys.path.append(\"../frid\")\n",
    "from temp import get_txt\n",
    "ct = get_txt(\"Chinese.txt\")\n",
    "et = get_txt(\"English.txt\")\n",
    "def parse_nerlt(ner:list):\n",
    "    dic = {}\n",
    "    for l in ner:\n",
    "        if l[1] in dic.keys():\n",
    "            dic[l[1]].append(l[0])\n",
    "        else:\n",
    "            dic[l[1]]=[l[0]]\n",
    "    return dic\n",
    "def print_parse(dic:dict):\n",
    "    for key in dic.keys():\n",
    "        print(key, dic[key])"
   ]
  },
  {
   "cell_type": "code",
   "execution_count": null,
   "metadata": {},
   "outputs": [],
   "source": [
    "# 69t112: jieba,nltk,SnowNLP,THULAC,NLPIR(PyNLPIR),spacy\n",
    "# pyhanlp: StandfordCoreNLP,HanLP,nltk\n",
    "# 命名实体(Named Entity, NE)\n",
    "# 人名（中国人名和外国译名）、地名、组织机构名、数字、日期、货币数量\n",
    "# English: Nltk, Spacy, StanfordCoreNLP\n",
    "# Chinese: Jieba, StanfordCoreNLP, SnowNLP, THULAC, NLPIR, HanLP"
   ]
  },
  {
   "attachments": {},
   "cell_type": "markdown",
   "metadata": {},
   "source": [
    "命名实体(Named Entity, NE)\n",
    "- PRP   人名（中国人名和外国译名）\n",
    "- 地名\n",
    "- 组织机构名\n",
    "- num   数字\n",
    "- NT    日期\n",
    "- quantmod  货币数量"
   ]
  },
  {
   "attachments": {},
   "cell_type": "markdown",
   "metadata": {},
   "source": [
    "#### 英文工具：\n",
    "Nltk：\n",
    "http://www.nltk.org/index.html\n",
    "https://github.com/nltk/nltk\n",
    "https://www.jianshu.com/p/9d232e4a3c28"
   ]
  },
  {
   "cell_type": "code",
   "execution_count": 18,
   "metadata": {},
   "outputs": [
    {
     "name": "stdout",
     "output_type": "stream",
     "text": [
      "[('Xi', 'NN'), ('Jinping', 'NNP'), (',', ','), ('male', 'NN'), (',', ','), Tree('PERSON', [('Han', 'NNP')]), ('ethnicity', 'NN'), (',', ','), ('was', 'VBD'), ('born', 'VBN'), ('in', 'IN'), ('June', 'NNP'), ('1953', 'CD'), ('and', 'CC'), ('is', 'VBZ'), ('from', 'IN'), ('Fuping', 'VBG'), (',', ','), Tree('PERSON', [('Shaanxi', 'NNP'), ('Province', 'NNP')]), ('.', '.'), ('He', 'PRP'), ('began', 'VBD'), ('his', 'PRP$'), ('first', 'JJ'), ('job', 'NN'), ('in', 'IN'), ('January', 'NNP'), ('1969', 'CD'), ('and', 'CC'), ('joined', 'VBD'), ('the', 'DT'), Tree('ORGANIZATION', [('Communist', 'NNP'), ('Party', 'NNP')]), ('of', 'IN'), Tree('GPE', [('China', 'NNP')]), ('(', '('), Tree('ORGANIZATION', [('CPC', 'NNP')]), (')', ')'), ('in', 'IN'), ('January', 'NNP'), ('1974', 'CD'), ('.', '.'), ('Xi', 'VB'), ('graduated', 'VBN'), ('from', 'IN'), Tree('ORGANIZATION', [('School', 'NNP')]), ('of', 'IN'), Tree('ORGANIZATION', [('Humanities', 'NNP')]), ('and', 'CC'), Tree('ORGANIZATION', [('Social', 'NNP'), ('Sciences', 'NNPS')]), (',', ','), Tree('ORGANIZATION', [('Tsinghua', 'NNP'), ('University', 'NNP')]), ('where', 'WRB'), ('he', 'PRP'), ('completed', 'VBD'), ('an', 'DT'), ('in-service', 'JJ'), ('graduate', 'NN'), ('program', 'NN'), ('in', 'IN'), Tree('GPE', [('Marxist', 'NNP')]), ('theory', 'NN'), ('and', 'CC'), ('ideological', 'JJ'), ('and', 'CC'), ('political', 'JJ'), ('education', 'NN'), ('.', '.'), ('He', 'PRP'), ('holds', 'VBZ'), ('a', 'DT'), ('Doctor', 'NNP'), ('of', 'IN'), Tree('GPE', [('Law', 'NNP')]), ('degree', 'NN'), ('.', '.'), ('Xi', 'NN'), ('is', 'VBZ'), ('currently', 'RB'), Tree('ORGANIZATION', [('General', 'NNP')]), ('Secretary', 'NNP'), ('of', 'IN'), ('the', 'DT'), Tree('ORGANIZATION', [('CPC', 'NNP'), ('Central', 'NNP'), ('Committee', 'NNP')]), (',', ','), ('Chairman', 'NNP'), ('of', 'IN'), ('the', 'DT'), Tree('ORGANIZATION', [('CPC', 'NNP'), ('Central', 'NNP')]), ('Military', 'NNP'), ('Commission', 'NNP'), (',', ','), ('President', 'NNP'), ('of', 'IN'), ('the', 'DT'), Tree('ORGANIZATION', [('People', 'NNP')]), (\"'s\", 'POS'), Tree('ORGANIZATION', [('Republic', 'NNP')]), ('of', 'IN'), Tree('GPE', [('China', 'NNP')]), ('(', '('), Tree('ORGANIZATION', [('PRC', 'NNP')]), (')', ')'), (',', ','), ('and', 'CC'), ('Chairman', 'NNP'), ('of', 'IN'), ('the', 'DT'), Tree('ORGANIZATION', [('PRC', 'NNP'), ('Central', 'NNP')]), ('Military', 'NNP'), ('Commission', 'NNP'), ('.', '.')]\n"
     ]
    }
   ],
   "source": [
    "import nltk\n",
    "nltk.data.path.append(r\"D:\\App\\Anaconda3\\envs\\69t112\\Lib\\nltk_data\")\n",
    "tagged = nltk.pos_tag(nltk.word_tokenize(et))\n",
    "entities = nltk.chunk.ne_chunk(tagged)\n",
    "res = [i for i in entities]\n",
    "print(res)"
   ]
  },
  {
   "attachments": {},
   "cell_type": "markdown",
   "metadata": {},
   "source": [
    "Spacy：\n",
    "https://blog.csdn.net/u012436149/article/details/79321112\n",
    "https://spacy.io/usage/linguistic-features#section-tokenization"
   ]
  },
  {
   "cell_type": "code",
   "execution_count": null,
   "metadata": {},
   "outputs": [],
   "source": [
    "from warnings import simplefilter\n",
    "simplefilter(action=\"ignore\",category=FutureWarning)\n",
    "import spacy\n",
    "nlp = spacy.load(\"en_core_web_sm\")\n",
    "doc = nlp(et)\n",
    "# res = [{ent.text: ent.label_} for ent in doc.ents]\n",
    "# print(res)\n",
    "dic = {}\n",
    "for ent in doc.ents:\n",
    "    if ent.label_ in dic.keys():\n",
    "        dic[ent.label_].append(ent.text)\n",
    "    else:\n",
    "        dic[ent.label_]=[ent.text]\n",
    "for key in dic.keys():\n",
    "    print(key, dic[key])"
   ]
  },
  {
   "attachments": {},
   "cell_type": "markdown",
   "metadata": {},
   "source": [
    "Stanfordnlp：\n",
    "https://github.com/Lynten/stanford-corenlp"
   ]
  },
  {
   "cell_type": "code",
   "execution_count": null,
   "metadata": {},
   "outputs": [],
   "source": [
    "from stanfordcorenlp import StanfordCoreNLP\n",
    "import nltk\n",
    "nltk.data.path.append(r\"D:\\App\\Anaconda3\\envs\\69t112\\Lib\\nltk_data\")\n",
    "from nltk.tokenize import sent_tokenize\n",
    "sentence = sent_tokenize(et)\n",
    "nlp = StanfordCoreNLP(r'F:\\envs\\datas\\stanford-corenlp-full-2018-02-27', lang='en')\n",
    "for line in sentence:\n",
    "    print(nlp.ner(line))"
   ]
  },
  {
   "cell_type": "code",
   "execution_count": 3,
   "metadata": {},
   "outputs": [],
   "source": [
    "nlp.close()"
   ]
  },
  {
   "cell_type": "code",
   "execution_count": 1,
   "metadata": {},
   "outputs": [
    {
     "name": "stdout",
     "output_type": "stream",
     "text": [
      "Named Entities: [('Guangdong', 'ORGANIZATION'), ('University', 'ORGANIZATION'), ('of', 'ORGANIZATION'), ('Foreign', 'ORGANIZATION'), ('Studies', 'ORGANIZATION'), ('is', 'O'), ('located', 'O'), ('in', 'O'), ('Guangzhou', 'CITY'), ('.', 'O')]\n"
     ]
    }
   ],
   "source": [
    "# Simple usage\n",
    "# import logging\n",
    "from stanfordcorenlp import StanfordCoreNLP\n",
    "\n",
    "nlp = StanfordCoreNLP(r'F:\\envs\\datas\\stanford-corenlp-4.5.4')#, lang='en',quiet=False, logging_level=logging.DEBUG, timeout=500000)\n",
    "sentence = 'Guangdong University of Foreign Studies is located in Guangzhou.' #.replace('\\n', ' ').replace('\\r', ' ').replace('%', ' ')\n",
    "print('Named Entities:', nlp.ner(sentence))\n",
    "\n",
    "nlp.close() # Do not forget to close! The backend server will consume a lot memery."
   ]
  },
  {
   "cell_type": "code",
   "execution_count": 11,
   "metadata": {},
   "outputs": [
    {
     "name": "stdout",
     "output_type": "stream",
     "text": [
      "[('Xi', 'PERSON'), ('Jinping', 'PERSON'), (',', 'O'), ('male', 'O'), (',', 'O'), ('Han', 'O'), ('ethnicity', 'O'), (',', 'O'), ('was', 'O'), ('born', 'O'), ('in', 'O'), ('June', 'DATE'), ('1953', 'DATE'), ('and', 'O'), ('is', 'O'), ('from', 'O'), ('Fuping', 'O'), (',', 'O'), ('Shaanxi', 'STATE_OR_PROVINCE'), ('Province', 'LOCATION'), ('.', 'O'), ('He', 'O'), ('began', 'O'), ('his', 'O'), ('first', 'ORDINAL'), ('job', 'O'), ('in', 'O'), ('January', 'DATE'), ('1969', 'DATE'), ('and', 'O'), ('joined', 'O'), ('the', 'O'), ('Communist', 'ORGANIZATION'), ('Party', 'ORGANIZATION'), ('of', 'ORGANIZATION'), ('China', 'ORGANIZATION'), ('(', 'O'), ('CPC', 'ORGANIZATION'), (')', 'O'), ('in', 'O'), ('January', 'DATE'), ('1974', 'DATE'), ('.', 'O'), ('Xi', 'O'), ('graduated', 'O'), ('from', 'O'), ('School', 'ORGANIZATION'), ('of', 'ORGANIZATION'), ('Humanities', 'ORGANIZATION'), ('and', 'ORGANIZATION'), ('Social', 'ORGANIZATION'), ('Sciences', 'ORGANIZATION'), (',', 'O'), ('Tsinghua', 'ORGANIZATION'), ('University', 'ORGANIZATION'), ('where', 'O'), ('he', 'O'), ('completed', 'O'), ('an', 'O'), ('in', 'O'), ('-', 'O'), ('service', 'O'), ('graduate', 'O'), ('program', 'O'), ('in', 'O'), ('Marxist', 'IDEOLOGY'), ('theory', 'O'), ('and', 'O'), ('ideological', 'O'), ('and', 'O'), ('political', 'O'), ('education', 'O'), ('.', 'O'), ('He', 'O'), ('holds', 'O'), ('a', 'O'), ('Doctor', 'TITLE'), ('of', 'MISC'), ('Law', 'MISC'), ('degree', 'O'), ('.', 'O'), ('Xi', 'PERSON'), ('is', 'O'), ('currently', 'DATE'), ('General', 'TITLE'), ('Secretary', 'O'), ('of', 'O'), ('the', 'O'), ('CPC', 'ORGANIZATION'), ('Central', 'ORGANIZATION'), ('Committee', 'ORGANIZATION'), (',', 'O'), ('Chairman', 'TITLE'), ('of', 'O'), ('the', 'O'), ('CPC', 'ORGANIZATION'), ('Central', 'ORGANIZATION'), ('Military', 'ORGANIZATION'), ('Commission', 'ORGANIZATION'), (',', 'O'), ('President', 'TITLE'), ('of', 'O'), ('the', 'O'), ('People', 'LOCATION'), (\"'s\", 'LOCATION'), ('Republic', 'COUNTRY'), ('of', 'COUNTRY'), ('China', 'COUNTRY'), ('(', 'O'), ('PRC', 'COUNTRY'), (')', 'O'), (',', 'O'), ('and', 'O'), ('Chairman', 'TITLE'), ('of', 'O'), ('the', 'O'), ('PRC', 'ORGANIZATION'), ('Central', 'ORGANIZATION'), ('Military', 'ORGANIZATION'), ('Commission', 'ORGANIZATION'), ('.', 'O')]\n",
      "PERSON ['Xi', 'Jinping', 'Xi']\n",
      "O [',', 'male', ',', 'Han', 'ethnicity', ',', 'was', 'born', 'in', 'and', 'is', 'from', 'Fuping', ',', '.', 'He', 'began', 'his', 'job', 'in', 'and', 'joined', 'the', '(', ')', 'in', '.', 'Xi', 'graduated', 'from', ',', 'where', 'he', 'completed', 'an', 'in', '-', 'service', 'graduate', 'program', 'in', 'theory', 'and', 'ideological', 'and', 'political', 'education', '.', 'He', 'holds', 'a', 'degree', '.', 'is', 'Secretary', 'of', 'the', ',', 'of', 'the', ',', 'of', 'the', '(', ')', ',', 'and', 'of', 'the', '.']\n",
      "DATE ['June', '1953', 'January', '1969', 'January', '1974', 'currently']\n",
      "STATE_OR_PROVINCE ['Shaanxi']\n",
      "LOCATION ['Province', 'People', \"'s\"]\n",
      "ORDINAL ['first']\n",
      "ORGANIZATION ['Communist', 'Party', 'of', 'China', 'CPC', 'School', 'of', 'Humanities', 'and', 'Social', 'Sciences', 'Tsinghua', 'University', 'CPC', 'Central', 'Committee', 'CPC', 'Central', 'Military', 'Commission', 'PRC', 'Central', 'Military', 'Commission']\n",
      "IDEOLOGY ['Marxist']\n",
      "TITLE ['Doctor', 'General', 'Chairman', 'President', 'Chairman']\n",
      "MISC ['of', 'Law']\n",
      "COUNTRY ['Republic', 'of', 'China', 'PRC']\n"
     ]
    }
   ],
   "source": [
    "from stanfordcorenlp import StanfordCoreNLP\n",
    "nlp = StanfordCoreNLP(r'F:\\envs\\datas\\stanford-corenlp-4.5.4',lang='en')\n",
    "ner = nlp.ner(et)\n",
    "nlp.close()\n",
    "# print(ner)\n",
    "ans = parse_nerlt(ner)\n",
    "print_parse(ans)"
   ]
  },
  {
   "cell_type": "markdown",
   "metadata": {},
   "source": [
    "**中文工具：** （部分工具命名实体识别没有直接调用的函数，可以根据词性标注的结果自己实现）\n",
    "Jieba：\n",
    "https://github.com/fxsjy/jieba"
   ]
  },
  {
   "cell_type": "code",
   "execution_count": null,
   "metadata": {},
   "outputs": [],
   "source": [
    "import jieba.analyse\n",
    "jieba.enable_paddle()\n",
    "kw = jieba.analyse.extract_tags(ct,withWeight=True,allowPOS=('n'))\n",
    "print(kw)"
   ]
  },
  {
   "cell_type": "markdown",
   "metadata": {},
   "source": [
    "StanfordCoreNLP：\n",
    "https://github.com/Lynten/stanford-corenlp"
   ]
  },
  {
   "cell_type": "code",
   "execution_count": 3,
   "metadata": {},
   "outputs": [
    {
     "name": "stdout",
     "output_type": "stream",
     "text": [
      "[('3月', 'DATE'), ('23日', 'DATE'), ('下午', 'TIME'), ('，', 'O'), ('“', 'O'), ('青年报', 'O'), ('杯赛', 'O'), ('”', 'O'), ('U19', 'O'), ('邀请赛', 'O'), ('在', 'O'), ('越南', 'COUNTRY'), ('芽', 'O'), ('庄', 'O'), ('进行', 'O'), ('，', 'O'), ('前', 'O'), ('国脚', 'O'), ('曲波', 'PERSON'), ('挂帅', 'O'), ('的', 'O'), ('中国', 'COUNTRY'), ('U19', 'O'), ('B', 'O'), ('队', 'O'), ('迎战', 'O'), ('泰国', 'COUNTRY'), ('U19', 'O'), ('，', 'O'), ('上半场', 'ORGANIZATION'), ('国青队', 'ORGANIZATION'), ('的', 'O'), ('门户', 'O'), ('大开', 'O'), ('，', 'O'), ('泰国', 'COUNTRY'), ('在', 'O'), ('第11', 'ORDINAL'), ('分钟', 'MISC'), ('和', 'O'), ('第17', 'ORDINAL'), ('分钟', 'MISC'), ('连', 'O'), ('进', 'O'), ('2', 'NUMBER'), ('球', 'O'), ('，', 'O'), ('半场', 'MISC'), ('国青', 'MISC'), ('0', 'NUMBER'), ('射门', 'O'), ('0', 'NUMBER'), ('角球', 'O'), ('，', 'O'), ('几乎', 'O'), ('被', 'O'), ('完全', 'O'), ('压制', 'O'), ('。', 'O'), ('下半场', 'O'), ('，', 'O'), ('国青', 'O'), ('的', 'O'), ('进攻', 'O'), ('一度', 'O'), ('有所', 'O'), ('起色', 'O'), ('，', 'O'), ('并', 'O'), ('由', 'O'), ('马辅渔', 'PERSON'), ('利用', 'O'), ('远射', 'O'), ('扳回', 'O'), ('一', 'NUMBER'), ('球', 'O'), ('，', 'O'), ('但', 'O'), ('最终', 'O'), ('未', 'O'), ('能', 'O'), ('扳平', 'O'), ('比分', 'O'), ('。', 'O'), ('全', 'O'), ('场', 'O'), ('比赛', 'O'), ('结束', 'O'), ('，', 'O'), ('国青', 'O'), ('1-2', 'NUMBER'), ('输球', 'O'), ('，', 'O'), ('继', 'O'), ('中国', 'COUNTRY'), ('杯', 'O'), ('国足', 'O'), ('0-1', 'MISC'), ('输给', 'MISC'), ('泰国', 'MISC'), ('之后', 'MISC'), ('，', 'O'), ('3', 'NUMBER'), ('天', 'MISC'), ('内', 'MISC'), ('遭遇', 'O'), ('泰国', 'COUNTRY'), ('足球', 'O'), ('双杀', 'O'), ('。', 'O')]\n"
     ]
    }
   ],
   "source": [
    "from stanfordcorenlp import StanfordCoreNLP\n",
    "nlp = StanfordCoreNLP(r'F:\\envs\\datas\\stanford-corenlp-full-2018-02-27', lang='zh')\n",
    "ner = nlp.ner(ct)\n",
    "nlp.close()\n",
    "print(ner)"
   ]
  },
  {
   "cell_type": "code",
   "execution_count": 7,
   "metadata": {},
   "outputs": [
    {
     "name": "stdout",
     "output_type": "stream",
     "text": [
      "DATE ['3月', '23日']\n",
      "TIME ['下午']\n",
      "O ['，', '“', '青年报', '杯赛', '”', 'U19', '邀请赛', '在', '芽', '庄', '进行', '，', '前', '国脚', '挂帅', '的', 'U19', 'B', '队', '迎战', 'U19', '，', '的', '门户', '大开', '，', '在', '和', '连', '进', '球', '，', '射门', '角球', '，', '几乎', '被', '完全', '压制', '。', '下半场', '，', '国青', '的', '进攻', '一度', '有所', '起色', '，', '并', '由', '利用', '远射', '扳回', '球', '，', '但', '最终', '未', '能', '扳平', '比分', '。', '全', '场', '比赛', '结束', '，', '国青', '输球', '，', '继', '杯', '国足', '，', '遭遇', '足球', '双杀', '。']\n",
      "COUNTRY ['越南', '中国', '泰国', '泰国', '中国', '泰国']\n",
      "PERSON ['曲波', '马辅渔']\n",
      "ORGANIZATION ['上半场', '国青队']\n",
      "ORDINAL ['第11', '第17']\n",
      "MISC ['分钟', '分钟', '半场', '国青', '0-1', '输给', '泰国', '之后', '天', '内']\n",
      "NUMBER ['2', '0', '0', '一', '1-2', '3']\n"
     ]
    }
   ],
   "source": [
    "ans = parse_nerlt(ner)\n",
    "print_parse(ans)"
   ]
  },
  {
   "cell_type": "markdown",
   "metadata": {},
   "source": [
    "SnowNLP：\n",
    "https://github.com/isnowfy/snownlp\n",
    "https://www.jianshu.com/p/4692d1b5364d"
   ]
  },
  {
   "cell_type": "code",
   "execution_count": 2,
   "metadata": {},
   "outputs": [
    {
     "name": "stdout",
     "output_type": "stream",
     "text": [
      "[('月', 'n'), ('青年报', 'n'), ('邀请赛', 'n'), ('芽', 'n'), ('国', 'n'), ('队', 'n'), ('上半场', 'n'), ('国', 'n'), ('门户', 'n'), ('连', 'n'), ('球', 'n'), ('国', 'n'), ('角球', 'n'), ('下半场', 'n'), ('国', 'n'), ('起色', 'n'), ('球', 'n'), ('比分', 'n'), ('全场', 'n'), ('国', 'n'), ('球', 'n'), ('国', 'n'), ('足球', 'n')]\n"
     ]
    }
   ],
   "source": [
    "from snownlp import SnowNLP\n",
    "s = SnowNLP(ct)\n",
    "ans = []\n",
    "ent = ['n']\n",
    "for i in s.tags:\n",
    "    if i[1] in ent:\n",
    "        ans.append(i)\n",
    "print(ans)"
   ]
  },
  {
   "cell_type": "code",
   "execution_count": 10,
   "metadata": {},
   "outputs": [
    {
     "name": "stdout",
     "output_type": "stream",
     "text": [
      "n ['月', '青年报', '邀请赛', '芽', '国', '队', '上半场', '国', '门户', '连', '球', '国', '角球', '下半场', '国', '起色', '球', '比分', '全场', '国', '球', '国', '足球']\n",
      "nx []\n",
      "nz ['U19B', 'U19，']\n",
      "nr ['庄', '脚曲', '波', '青', '0', '马', '辅', '青', '1-2']\n",
      "ns ['3', '越南', '中国', '泰国', '泰国', '中国', '泰国', '泰国']\n",
      "nt ['半场']\n"
     ]
    }
   ],
   "source": [
    "from snownlp import SnowNLP\n",
    "s = SnowNLP(ct)\n",
    "ent = ['n', 'nx', 'nz', 'nr','ns', 'nt']\n",
    "ner = [[] for i in range(len(ent))]\n",
    "for i in s.tags:\n",
    "    if i[1] in ent:\n",
    "        ner[ent.index(i[1])].append(i[0])\n",
    "\n",
    "for i in range(len(ner)):\n",
    "    print(ent[i], ner[i])"
   ]
  },
  {
   "cell_type": "markdown",
   "metadata": {},
   "source": [
    "THULAC：\n",
    "https://github.com/thunlp/THULAC-Python"
   ]
  },
  {
   "cell_type": "code",
   "execution_count": 21,
   "metadata": {},
   "outputs": [
    {
     "name": "stdout",
     "output_type": "stream",
     "text": [
      "Model loaded succeed\n",
      "np [['曲波', 'np'], ['马辅渔', 'np']]\n",
      "ns [['越南', 'ns'], ['芽庄', 'ns'], ['中国', 'ns'], ['泰国', 'ns'], ['泰国', 'ns'], ['中国', 'ns'], ['杯国', 'ns'], ['泰国', 'ns'], ['泰国', 'ns']]\n",
      "ni [['国青队', 'ni']]\n",
      "nz []\n",
      "n [['青年', 'n'], ['报杯赛', 'n'], ['邀请赛', 'n'], ['国脚', 'n'], ['U19B队', 'n'], ['上半场', 'n'], ['门户', 'n'], ['球', 'n'], ['国青0', 'n'], ['角球', 'n'], ['下半场', 'n'], ['起色', 'n'], ['球', 'n'], ['比分', 'n'], ['全场', 'n'], ['球', 'n'], ['足球', 'n']]\n"
     ]
    }
   ],
   "source": [
    "import thulac\n",
    "thu1 = thulac.thulac()\n",
    "text = thu1.cut(ct,text=True)\n",
    "text = text.split(' ')\n",
    "ent = ['np', 'ns', 'ni', 'nz','n']\n",
    "ner = [[] for i in range(len(ent))]\n",
    "for i in text:\n",
    "    i=i.split('_')\n",
    "    if i[1] in ent:\n",
    "        ner[ent.index(i[1])].append(i)\n",
    "for i in range(len(ner)):\n",
    "    print(ent[i], ner[i])"
   ]
  },
  {
   "cell_type": "markdown",
   "metadata": {},
   "source": [
    "NLPIR：\n",
    "https://github.com/tsroten/pynlpir\n",
    "https://blog.csdn.net/weixin_34613450/article/details/78695166"
   ]
  },
  {
   "cell_type": "code",
   "execution_count": 34,
   "metadata": {},
   "outputs": [
    {
     "name": "stdout",
     "output_type": "stream",
     "text": [
      "noun ['杯', 'U19', '邀请赛', '越南', '芽', '庄', '国脚', '曲波', '中国', 'U19B', '队', '泰国', 'U19', '上半场', '国青', '队', '门户', '泰国', '球', '国青', '角球', '国青', '起色', '马', '球', '比分', '全场', '国青', '球', '中国', '杯', '国', '泰国', '泰国', '足球']\n",
      "time word ['3月', '23日', '下午']\n",
      "noun of locality ['前', '之后', '内']\n"
     ]
    }
   ],
   "source": [
    "import pynlpir\n",
    "pynlpir.open()\n",
    "tagged = pynlpir.segment(ct)\n",
    "ent = ['noun','time word', 'noun of locality']\n",
    "ner = [[] for i in range(len(ent))]\n",
    "for i in tagged:\n",
    "    if i[1] in ent:\n",
    "        ner[ent.index(i[1])].append(i[0])\n",
    "for i in range(len(ner)):\n",
    "    print(ent[i], ner[i])"
   ]
  },
  {
   "cell_type": "markdown",
   "metadata": {},
   "source": [
    "HanLP（选做，需要 Microsoft Visual C++ 14.0）\n",
    "https://github.com/hankcs/pyhanlp"
   ]
  },
  {
   "cell_type": "code",
   "execution_count": 12,
   "metadata": {},
   "outputs": [
    {
     "name": "stdout",
     "output_type": "stream",
     "text": [
      "n ['青年报', '杯赛', '邀请赛', '国脚', '队', '上半场', '门户', '球', '角球', '下半场', '起色', '球', '比分', '全场', '足球']\n",
      "nx ['U', 'U', 'B', 'U', '-', '-']\n",
      "nz ['芽庄', '半场', '中国杯', '双杀']\n",
      "nr ['曲波', '国青', '国青', '马辅', '国青']\n",
      "ns ['中国']\n",
      "nt ['国青队', '国足']\n"
     ]
    }
   ],
   "source": [
    "from pyhanlp import HanLP\n",
    "segment = HanLP.newSegment().enableNameRecognize(True)\n",
    "# user_list = []\n",
    "ent = ['n', 'nx', 'nz', 'nr','ns', 'nt']\n",
    "ner = [[] for i in range(len(ent))]\n",
    "\n",
    "for i in segment.seg(ct):\n",
    "    split_words = str(i).split('/')\n",
    "    if split_words[-1] in ent:\n",
    "        ner[ent.index(split_words[-1])].append(split_words[0])\n",
    "for i in range(len(ner)):\n",
    "    print(ent[i], ner[i])"
   ]
  },
  {
   "cell_type": "code",
   "execution_count": 2,
   "metadata": {},
   "outputs": [
    {
     "name": "stdout",
     "output_type": "stream",
     "text": [
      "('3月', 't') ('23', 'm') ('日', 'b') ('下午', 't') ('，', 'w') ('“', 'w') ('青年报', 'n') ('杯赛', 'n') ('”', 'w') ('U', 'nx') ('19', 'm') ('邀请赛', 'n') ('在', 'p') ('越南', 'nsf') ('芽庄', 'nz') ('进行', 'vn') ('，', 'w') ('前', 'f') ('国脚', 'n') ('曲波', 'nr') ('挂帅', 'vi') ('的', 'ude1') ('中国', 'ns') ('U', 'nx') ('19', 'm') ('B', 'nx') ('队', 'n') ('迎战', 'v') ('泰国', 'nsf') ('U', 'nx') ('19', 'm') ('，', 'w') ('上半场', 'n') ('国青队', 'nt') ('的', 'ude1') ('门户', 'n') ('大', 'a') ('开', 'v') ('，', 'w') ('泰国', 'nsf') ('在', 'p') ('第', 'mq') ('11', 'm') ('分钟', 'qt') ('和', 'cc') ('第', 'mq') ('17', 'm') ('分钟', 'qt') ('连进', 'a') ('2', 'm') ('球', 'n') ('，', 'w') ('半场', 'nz') ('国青', 'nr') ('0', 'm') ('射门', 'vi') ('0', 'm') ('角球', 'n') ('，', 'w') ('几乎', 'd') ('被', 'pbei') ('完全', 'ad') ('压制', 'v') ('。', 'w') ('下半场', 'n') ('，', 'w') ('国青', 'nr') ('的', 'ude1') ('进攻', 'vn') ('一度', 'd') ('有所', 'v') ('起色', 'n') ('，', 'w') ('并', 'cc') ('由', 'p') ('马辅', 'nr') ('渔利', 'vi') ('用', 'p') ('远射', 'v') ('扳回', 'v') ('一', 'm') ('球', 'n') ('，', 'w') ('但', 'c') ('最终', 'd') ('未能', 'v') ('扳平', 'v') ('比分', 'n') ('。', 'w') ('全场', 'n') ('比赛', 'vn') ('结束', 'v') ('，', 'w') ('国青', 'nr') ('1', 'm') ('-', 'nx') ('2', 'm') ('输球', 'v') ('，', 'w') ('继', 'vg') ('中国杯', 'nz') ('国足', 'nt') ('0', 'm') ('-', 'nx') ('1', 'm') ('输给', 'v') ('泰国', 'nsf') ('之后', 'f') ('，', 'w') ('3', 'm') ('天内', 's') ('遭遇', 'v') ('泰国', 'nsf') ('足球', 'n') ('双杀', 'nz') ('。', 'w') "
     ]
    }
   ],
   "source": [
    "from pyhanlp import HanLP\n",
    "for term in HanLP.segment(ct):\n",
    "    print(\"('{}', '{}')\".format(term.word,term.nature),end=' ')"
   ]
  },
  {
   "cell_type": "code",
   "execution_count": 8,
   "metadata": {},
   "outputs": [
    {
     "name": "stdout",
     "output_type": "stream",
     "text": [
      "dict_keys(['t', 'm', 'b', 'w', 'n', 'nx', 'p', 'nsf', 'nz', 'vn', 'f', 'nr', 'vi', 'ude1', 'ns', 'v', 'nt', 'a', 'mq', 'qt', 'cc', 'd', 'pbei', 'ad', 'c', 'vg', 's'])\n"
     ]
    }
   ],
   "source": [
    "from pyhanlp import HanLP\n",
    "dic = {}\n",
    "for term in HanLP.segment(ct):\n",
    "    if term.nature in dic:\n",
    "        dic[str(term.nature)].append(term.word)\n",
    "    else:\n",
    "        dic[str(term.nature)]=[term.word]\n",
    "print(dic.keys())"
   ]
  }
 ],
 "metadata": {
  "kernelspec": {
   "display_name": "69t112",
   "language": "python",
   "name": "python3"
  },
  "language_info": {
   "codemirror_mode": {
    "name": "ipython",
    "version": 3
   },
   "file_extension": ".py",
   "mimetype": "text/x-python",
   "name": "python",
   "nbconvert_exporter": "python",
   "pygments_lexer": "ipython3",
   "version": "3.8.13"
  },
  "orig_nbformat": 4
 },
 "nbformat": 4,
 "nbformat_minor": 2
}
