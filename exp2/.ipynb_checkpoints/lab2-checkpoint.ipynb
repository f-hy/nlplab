{
 "cells": [
  {
   "cell_type": "code",
   "execution_count": 1,
   "metadata": {
    "collapsed": true,
    "pycharm": {
     "name": "#%%\n"
    }
   },
   "outputs": [
    {
     "ename": "ModuleNotFoundError",
     "evalue": "No module named 'jieba'",
     "output_type": "error",
     "traceback": [
      "\u001b[1;31m---------------------------------------------------------------------------\u001b[0m",
      "\u001b[1;31mModuleNotFoundError\u001b[0m                       Traceback (most recent call last)",
      "Cell \u001b[1;32mIn[1], line 1\u001b[0m\n\u001b[1;32m----> 1\u001b[0m \u001b[38;5;28;01mimport\u001b[39;00m \u001b[38;5;21;01mjieba\u001b[39;00m\n",
      "\u001b[1;31mModuleNotFoundError\u001b[0m: No module named 'jieba'"
     ]
    }
   ],
   "source": [
    "import jieba"
   ]
  },
  {
   "cell_type": "code",
   "execution_count": 5,
   "metadata": {
    "pycharm": {
     "name": "#%%\n"
    }
   },
   "outputs": [
    {
     "name": "stdout",
     "output_type": "stream",
     "text": [
      "# conda environments:\n",
      "#\n",
      "base                     D:\\App\\Anaconda3\n",
      "69t112                *  D:\\App\\Anaconda3\\envs\\69t112\n",
      "pt1.12.0                 D:\\App\\Anaconda3\\envs\\pt1.12.0\n",
      "scrapyws                 D:\\App\\Anaconda3\\envs\\scrapyws\n",
      "                         F:\\envs\\pyhanlp\n",
      "\n"
     ]
    }
   ],
   "source": [
    "!conda env list"
   ]
  },
  {
   "cell_type": "code",
   "execution_count": 3,
   "metadata": {
    "pycharm": {
     "name": "#%%\n"
    }
   },
   "outputs": [
    {
     "name": "stdout",
     "output_type": "stream",
     "text": [
      "Collecting jieba\n",
      "  Downloading https://pypi.tuna.tsinghua.edu.cn/packages/c6/cb/18eeb235f833b726522d7ebed54f2278ce28ba9438e3135ab0278d9792a2/jieba-0.42.1.tar.gz (19.2MB)\n",
      "Building wheels for collected packages: jieba\n",
      "  Running setup.py bdist_wheel for jieba: started\n",
      "  Running setup.py bdist_wheel for jieba: finished with status 'done'\n",
      "  Stored in directory: C:\\Users\\Friendy\\AppData\\Local\\pip\\Cache\\wheels\\98\\4c\\d7\\713c0d3792b60467da4cf203f7313da907713c8eb6768b5ee8\n",
      "Successfully built jieba\n",
      "Installing collected packages: jieba\n",
      "Successfully installed jieba-0.42.1\n"
     ]
    },
    {
     "name": "stderr",
     "output_type": "stream",
     "text": [
      "You are using pip version 21.3.1, however version 23.0.1 is available.\n",
      "You should consider upgrading via the 'python -m pip install --upgrade pip' command.\n"
     ]
    }
   ],
   "source": [
    "!pip install jieba --trusted-host pypi.tuna.tsinghua.edu.cn\n",
    "!pip install paddlepaddle-tiny --trusted-host pypi.tuna.tsinghua.edu.cn"
   ]
  },
  {
   "cell_type": "code",
   "execution_count": 2,
   "metadata": {
    "pycharm": {
     "name": "#%%\n"
    }
   },
   "outputs": [],
   "source": [
    "f = open(file=\"Chinese.txt\", mode=\"r\", encoding=\"utf8\")\n",
    "ct = f.read()\n",
    "f.close()\n",
    "f = open(file=\"English.txt\", mode=\"r\", encoding=\"utf8\")\n",
    "et = f.read()\n",
    "f.close()"
   ]
  },
  {
   "cell_type": "code",
   "execution_count": 30,
   "metadata": {
    "pycharm": {
     "name": "#%%\n"
    }
   },
   "outputs": [
    {
     "name": "stderr",
     "output_type": "stream",
     "text": [
      "Paddle enabled successfully......\n"
     ]
    },
    {
     "name": "stdout",
     "output_type": "stream",
     "text": [
      "Paddle Mode:  央/视/315/晚会/曝光/湖北省/知名/的/神丹牌、莲田牌“土鸡蛋”/实为/普通/鸡蛋/冒充/，/同时/在/商标/上/玩/猫腻，/分别/注册/“鲜土”、/注册/“/好土/”/商标/，/让/消费者/误/以为/是/“土/鸡蛋/”。/3月15日晚间/，/新京报/记者/就/此事/致电/湖北神丹健康食品有限公司/方面/，/其/工作/人员/表示/不知/情，/需要/了解/清楚/情况/，/截至/发稿/暂未/取得/最新/回应/。/新京报/记者/还/查询/发现/，/湖北神丹健康食品有限公司/为/农业/产业化/国家/重点/龙头/企业/、/高新技术/企业/，/此前/曾/因/涉嫌/虚假/宣传/“/中国/最大/的/蛋品/企业/”/而/被/罚/6万元/。\n",
      "Full Mode: ﻿/ 央视/ 315/ 晚会/ 曝光/ 湖北/ 湖北省/ 知名/ 的/ 神丹/ 牌/ 、/ 莲/ 田/ 牌/ “/ 土鸡/ 鸡蛋/ ”/ 实为/ 普通/ 鸡蛋/ 冒充/ ，/ 同时/ 在/ 商标/ 标上/ 玩/ 猫腻/ ，/ 分别/ 注册/ “/ 鲜/ 土/ ”、/ 注册/ “/ 好/ 土/ ”/ 商标/ ，/ 让/ 消费/ 消费者/ 误以为/ 以为/ 是/ “/ 土鸡/ 鸡蛋/ ”。/ 3/ 月/ 15/ 日/ 晚间/ ，/ 新/ 京报/ 记者/ 就此/ 此事/ 致电/ 湖北/ 神丹/ 健康/ 食品/ 有限/ 有限公司/ 公司/ 方面/ ，/ 其/ 工作/ 工作人员/ 作人/ 人员/ 表示/ 不知/ 不知情/ 知情/ ，/ 需要/ 了解/ 清楚/ 情况/ ，/ 截至/ 发稿/ 暂/ 未取/ 取得/ 最新/ 回应/ 。/ 新/ 京报/ 记者/ 还/ 查询/ 发现/ ，/ 湖北/ 神丹/ 健康/ 食品/ 有限/ 有限公司/ 公司/ 为/ 农业/ 农业产业/ 产业/ 产业化/ 国家/ 重点/ 龙头/ 龙头企业/ 企业/ 、/ 高新/ 高新技术/ 技术/ 企业/ ，/ 此前/ 曾/ 因涉嫌/ 涉嫌/ 虚假/ 宣传/ “/ 中国/ 最大/ 的/ 蛋品/ 企业/ ”/ 而/ 被/ 罚/ 6/ 万元/ 。\n",
      "Default Mode: ﻿/ 央视/ 315/ 晚会/ 曝光/ 湖北省/ 知名/ 的/ 神丹/ 牌/ 、/ 莲田牌/ “/ 土/ 鸡蛋/ ”/ 实为/ 普通/ 鸡蛋/ 冒充/ ，/ 同时/ 在/ 商标/ 上/ 玩/ 猫腻/ ，/ 分别/ 注册/ “/ 鲜土/ ”/ 、/ 注册/ “/ 好土/ ”/ 商标/ ，/ 让/ 消费者/ 误以为/ 是/ “/ 土/ 鸡蛋/ ”/ 。/ 3/ 月/ 15/ 日/ 晚间/ ，/ 新/ 京报/ 记者/ 就/ 此事/ 致电/ 湖北/ 神丹/ 健康/ 食品/ 有限公司/ 方面/ ，/ 其/ 工作人员/ 表示/ 不知情/ ，/ 需要/ 了解/ 清楚/ 情况/ ，/ 截至/ 发稿/ 暂未/ 取得/ 最新/ 回应/ 。/ 新/ 京报/ 记者/ 还/ 查询/ 发现/ ，/ 湖北/ 神丹/ 健康/ 食品/ 有限公司/ 为/ 农业/ 产业化/ 国家/ 重点/ 龙头企业/ 、/ 高新技术/ 企业/ ，/ 此前/ 曾/ 因涉嫌/ 虚假/ 宣传/ “/ 中国/ 最大/ 的/ 蛋品/ 企业/ ”/ 而/ 被/ 罚/ 6/ 万元/ 。\n",
      "Search Mode: ﻿/ 央视/ 315/ 晚会/ 曝光/ 湖北/ 湖北省/ 知名/ 的/ 神丹/ 牌/ 、/ 莲田牌/ “/ 土/ 鸡蛋/ ”/ 实为/ 普通/ 鸡蛋/ 冒充/ ，/ 同时/ 在/ 商标/ 上/ 玩/ 猫腻/ ，/ 分别/ 注册/ “/ 鲜土/ ”/ 、/ 注册/ “/ 好土/ ”/ 商标/ ，/ 让/ 消费/ 消费者/ 以为/ 误以为/ 是/ “/ 土/ 鸡蛋/ ”/ 。/ 3/ 月/ 15/ 日/ 晚间/ ，/ 新/ 京报/ 记者/ 就/ 此事/ 致电/ 湖北/ 神丹/ 健康/ 食品/ 有限/ 公司/ 有限公司/ 方面/ ，/ 其/ 工作/ 作人/ 人员/ 工作人员/ 表示/ 不知/ 知情/ 不知情/ ，/ 需要/ 了解/ 清楚/ 情况/ ，/ 截至/ 发稿/ 暂未/ 取得/ 最新/ 回应/ 。/ 新/ 京报/ 记者/ 还/ 查询/ 发现/ ，/ 湖北/ 神丹/ 健康/ 食品/ 有限/ 公司/ 有限公司/ 为/ 农业/ 产业/ 产业化/ 国家/ 重点/ 龙头/ 企业/ 龙头企业/ 、/ 高新/ 技术/ 高新技术/ 企业/ ，/ 此前/ 曾/ 涉嫌/ 因涉嫌/ 虚假/ 宣传/ “/ 中国/ 最大/ 的/ 蛋品/ 企业/ ”/ 而/ 被/ 罚/ 6/ 万元/ 。\n"
     ]
    }
   ],
   "source": [
    "# Jieba（重点），尝试三种分词模式与自定义词典功能： https://github.com/fxsjy/jieba\n",
    "jieba.enable_paddle()\n",
    "seg_list = jieba.cut(ct, use_paddle=True)  #paddle模式\n",
    "print(\"Paddle Mode: \" + '/'.join(list(seg_list)))\n",
    "seg_list = jieba.cut(ct, cut_all=True)  # 全模式\n",
    "print(\"Full Mode: \" + \"/ \".join(seg_list))\n",
    "seg_list = jieba.cut(ct, cut_all=False)  # 精确模式\n",
    "print(\"Default Mode: \" + \"/ \".join(seg_list))\n",
    "seg_list = jieba.cut_for_search(ct)  # 搜索引擎模式\n",
    "print(\"Search Mode: \" + \"/ \".join(seg_list))"
   ]
  },
  {
   "cell_type": "code",
   "execution_count": 3,
   "metadata": {
    "pycharm": {
     "name": "#%%\n"
    }
   },
   "outputs": [
    {
     "ename": "NameError",
     "evalue": "name 'jieba' is not defined",
     "output_type": "error",
     "traceback": [
      "\u001b[1;31m---------------------------------------------------------------------------\u001b[0m",
      "\u001b[1;31mNameError\u001b[0m                                 Traceback (most recent call last)",
      "Cell \u001b[1;32mIn[3], line 1\u001b[0m\n\u001b[1;32m----> 1\u001b[0m \u001b[43mjieba\u001b[49m\u001b[38;5;241m.\u001b[39mload_userdict(\u001b[38;5;124m\"\u001b[39m\u001b[38;5;124m./Userdict.txt\u001b[39m\u001b[38;5;124m\"\u001b[39m)\n\u001b[0;32m      2\u001b[0m jieba\u001b[38;5;241m.\u001b[39menable_paddle()\n\u001b[0;32m      3\u001b[0m seg_list \u001b[38;5;241m=\u001b[39m jieba\u001b[38;5;241m.\u001b[39mcut(ct, use_paddle\u001b[38;5;241m=\u001b[39m\u001b[38;5;28;01mTrue\u001b[39;00m)  \u001b[38;5;66;03m#paddle模式\u001b[39;00m\n",
      "\u001b[1;31mNameError\u001b[0m: name 'jieba' is not defined"
     ]
    }
   ],
   "source": [
    "jieba.load_userdict(\"./Userdict.txt\")\n",
    "jieba.enable_paddle()\n",
    "seg_list = jieba.cut(ct, use_paddle=True)  #paddle模式\n",
    "print(\"Paddle Mode: \" + '/'.join(list(seg_list)))\n",
    "seg_list = jieba.cut(ct, cut_all=True)  # 全模式\n",
    "print(\"Full Mode: \" + \"/ \".join(seg_list))\n",
    "seg_list = jieba.cut(ct, cut_all=False)  # 精确模式\n",
    "print(\"Default Mode: \" + \"/ \".join(seg_list))\n",
    "seg_list = jieba.cut_for_search(ct)  # 搜索引擎模式\n",
    "print(\"Search Mode: \" + \"/ \".join(seg_list))"
   ]
  },
  {
   "cell_type": "code",
   "execution_count": 35,
   "metadata": {
    "pycharm": {
     "name": "#%%\n"
    }
   },
   "outputs": [
    {
     "name": "stdout",
     "output_type": "stream",
     "text": [
      "Collecting snownlp\n",
      "  Downloading https://pypi.tuna.tsinghua.edu.cn/packages/3d/b3/37567686662100d3bce62d3b0f2adec18ab4b9ff2b61abd7a61c39343c1d/snownlp-0.12.3.tar.gz (37.6MB)\n",
      "Building wheels for collected packages: snownlp\n",
      "  Running setup.py bdist_wheel for snownlp: started\n",
      "  Running setup.py bdist_wheel for snownlp: finished with status 'done'\n",
      "  Stored in directory: C:\\Users\\Friendy\\AppData\\Local\\pip\\Cache\\wheels\\05\\9d\\33\\a3cb257f3b8fef0093cefe5a2bac10a8ab7e9ce18f8538f7e5\n",
      "Successfully built snownlp\n",
      "Installing collected packages: snownlp\n",
      "Successfully installed snownlp-0.12.3\n"
     ]
    },
    {
     "name": "stderr",
     "output_type": "stream",
     "text": [
      "You are using pip version 21.3.1, however version 23.0.1 is available.\n",
      "You should consider upgrading via the 'python -m pip install --upgrade pip' command.\n"
     ]
    }
   ],
   "source": [
    "# SnowNLP： https://github.com/isnowfy/snownlp\n",
    "!pip install snownlp --trusted-host pypi.tuna.tsinghua.edu.cn"
   ]
  },
  {
   "cell_type": "code",
   "execution_count": 36,
   "metadata": {
    "pycharm": {
     "name": "#%%\n"
    }
   },
   "outputs": [
    {
     "name": "stdout",
     "output_type": "stream",
     "text": [
      "s.words:  ['\\ufeff', '央视', '315', '晚会', '曝光', '湖北省', '知名', '的', '神丹', '牌', '、', '莲', '田', '牌', '“', '土', '鸡蛋', '”', '实', '为', '普通', '鸡蛋', '冒充', '，', '同时', '在', '商标', '上', '玩猫', '腻', '，', '分别', '注册', '“', '鲜', '土', '”、', '注册', '“', '好', '土', '”', '商标', '，', '让', '消费者', '误', '以为', '是', '“', '土', '鸡蛋', '”。3', '月', '15', '日', '晚间', '，', '新京', '报', '记者', '就', '此事', '致电', '湖北', '神', '丹', '健康', '食品', '有限公司', '方面', '，', '其', '工作', '人员', '表示', '不', '知情', '，', '需要', '了解', '清楚', '情况', '，', '截至', '发稿', '暂', '未', '取得', '最新', '回应', '。', '新京', '报', '记者', '还', '查询', '发现', '，', '湖北', '神', '丹', '健康', '食品', '有限公司', '为', '农业', '产业化', '国家', '重点', '龙头', '企业', '、', '高新技术', '企业', '，', '此前', '曾', '因', '涉嫌', '虚假', '宣传', '“', '中国', '最', '大', '的', '蛋品', '企业', '”', '而', '被', '罚', '6', '万', '元', '。']\n",
      "s.tags:  <zip object at 0x000001C3620AAE08>\n",
      "s.sentiments:  3.626454692096104e-11\n",
      "s.pinyin:  ['\\ufeff', '央', 'shi', '315', 'wan', 'hui', 'bao', 'guang', 'hu', 'bei', 'xing', 'zhi', 'ming', 'de', 'shen', 'dan', 'pai', '、', 'lian', 'tian', 'pai', '“', 'tu', 'ji', 'dan', '”', 'shi', 'wei', 'pu', 'tong', 'ji', 'dan', 'mao', 'chong', '，', 'tong', 'shi', 'zai', 'shang', 'biao', 'shang', 'wan', 'mao', 'ni', '，', 'fen', 'bie', 'zhu', 'ce', '“', 'xian', 'tu', '”、', 'zhu', 'ce', '“', 'hao', 'tu', '”', 'shang', 'biao', '，', 'rang', 'xiao', 'fei', 'zhe', 'wu', 'yi', 'wei', 'shi', '“', 'tu', 'ji', 'dan', '”。3', 'yue', '15', 'ri', 'wan', 'jian', '，', 'xin', 'jing', 'bao', 'ji', 'zhe', 'jiu', 'ci', 'shi', 'zhi', 'dian', 'hu', 'bei', 'shen', 'dan', 'jian', 'kang', 'shi', 'pin', 'you', 'xian', 'gong', 'si', 'fang', 'mian', '，', 'qi', 'gong', 'zuo', 'ren', 'yuan', 'biao', 'shi', 'bu', 'zhi', 'qing', '，', 'xu', 'yao', 'liao', 'jie', 'qing', 'chu', 'qing', 'kuang', '，', 'jie', 'zhi', 'fa', 'gao', 'zan', 'wei', 'qu', 'de', 'zui', 'xin', 'hui', 'ying', '。', 'xin', 'jing', 'bao', 'ji', 'zhe', 'huan', 'cha', 'xun', 'fa', 'xian', '，', 'hu', 'bei', 'shen', 'dan', 'jian', 'kang', 'shi', 'pin', 'you', 'xian', 'gong', 'si', 'wei', 'nong', 'ye', 'chan', 'ye', 'hua', 'guo', 'jia', 'zhong', 'dian', 'long', 'tou', 'qi', 'ye', '、', 'gao', 'xin', 'ji', 'shu', 'qi', 'ye', '，', 'ci', 'qian', 'zeng', 'yin', 'she', 'xian', 'xu', 'jia', 'xuan', 'chuan', '“', 'zhong', 'guo', 'zui', 'da', 'de', 'dan', 'jing', 'qi', 'ye', '”', 'er', 'bei', 'fa', '6', 'wan', '元', '。']\n",
      "s.keywords(5):  ['土', '企业', '商标', '牌', '鸡蛋']\n",
      "s.summary(5):  ['新京报记者就此事致电湖北神丹健康食品有限公司方面', '让消费者误以为是“土鸡蛋”', '湖北神丹健康食品有限公司为农业产业化国家重点龙头企业、高新技术企业', '分别注册“鲜土”、注册“好土”商标', '\\ufeff央视315晚会曝光湖北省知名的神丹牌、莲田牌“土鸡蛋”实为普通鸡蛋冒充']\n",
      "s.sentences:  ['\\ufeff央视315晚会曝光湖北省知名的神丹牌、莲田牌“土鸡蛋”实为普通鸡蛋冒充', '同时在商标上玩猫腻', '分别注册“鲜土”、注册“好土”商标', '让消费者误以为是“土鸡蛋”', '3月15日晚间', '新京报记者就此事致电湖北神丹健康食品有限公司方面', '其工作人员表示不知情', '需要了解清楚情况', '截至发稿暂未取得最新回应', '新京报记者还查询发现', '湖北神丹健康食品有限公司为农业产业化国家重点龙头企业、高新技术企业', '此前曾因涉嫌虚假宣传“中国最大的蛋品企业”而被罚6万元']\n",
      "s.tf:  [{'\\ufeff': 1}, {'央': 1}, {'视': 1}, {'3': 1}, {'1': 1}, {'5': 1}, {'晚': 1}, {'会': 1}, {'曝': 1}, {'光': 1}, {'湖': 1}, {'北': 1}, {'省': 1}, {'知': 1}, {'名': 1}, {'的': 1}, {'神': 1}, {'丹': 1}, {'牌': 1}, {'、': 1}, {'莲': 1}, {'田': 1}, {'牌': 1}, {'“': 1}, {'土': 1}, {'鸡': 1}, {'蛋': 1}, {'”': 1}, {'实': 1}, {'为': 1}, {'普': 1}, {'通': 1}, {'鸡': 1}, {'蛋': 1}, {'冒': 1}, {'充': 1}, {'，': 1}, {'同': 1}, {'时': 1}, {'在': 1}, {'商': 1}, {'标': 1}, {'上': 1}, {'玩': 1}, {'猫': 1}, {'腻': 1}, {'，': 1}, {'分': 1}, {'别': 1}, {'注': 1}, {'册': 1}, {'“': 1}, {'鲜': 1}, {'土': 1}, {'”': 1}, {'、': 1}, {'注': 1}, {'册': 1}, {'“': 1}, {'好': 1}, {'土': 1}, {'”': 1}, {'商': 1}, {'标': 1}, {'，': 1}, {'让': 1}, {'消': 1}, {'费': 1}, {'者': 1}, {'误': 1}, {'以': 1}, {'为': 1}, {'是': 1}, {'“': 1}, {'土': 1}, {'鸡': 1}, {'蛋': 1}, {'”': 1}, {'。': 1}, {'3': 1}, {'月': 1}, {'1': 1}, {'5': 1}, {'日': 1}, {'晚': 1}, {'间': 1}, {'，': 1}, {'新': 1}, {'京': 1}, {'报': 1}, {'记': 1}, {'者': 1}, {'就': 1}, {'此': 1}, {'事': 1}, {'致': 1}, {'电': 1}, {'湖': 1}, {'北': 1}, {'神': 1}, {'丹': 1}, {'健': 1}, {'康': 1}, {'食': 1}, {'品': 1}, {'有': 1}, {'限': 1}, {'公': 1}, {'司': 1}, {'方': 1}, {'面': 1}, {'，': 1}, {'其': 1}, {'工': 1}, {'作': 1}, {'人': 1}, {'员': 1}, {'表': 1}, {'示': 1}, {'不': 1}, {'知': 1}, {'情': 1}, {'，': 1}, {'需': 1}, {'要': 1}, {'了': 1}, {'解': 1}, {'清': 1}, {'楚': 1}, {'情': 1}, {'况': 1}, {'，': 1}, {'截': 1}, {'至': 1}, {'发': 1}, {'稿': 1}, {'暂': 1}, {'未': 1}, {'取': 1}, {'得': 1}, {'最': 1}, {'新': 1}, {'回': 1}, {'应': 1}, {'。': 1}, {'新': 1}, {'京': 1}, {'报': 1}, {'记': 1}, {'者': 1}, {'还': 1}, {'查': 1}, {'询': 1}, {'发': 1}, {'现': 1}, {'，': 1}, {'湖': 1}, {'北': 1}, {'神': 1}, {'丹': 1}, {'健': 1}, {'康': 1}, {'食': 1}, {'品': 1}, {'有': 1}, {'限': 1}, {'公': 1}, {'司': 1}, {'为': 1}, {'农': 1}, {'业': 1}, {'产': 1}, {'业': 1}, {'化': 1}, {'国': 1}, {'家': 1}, {'重': 1}, {'点': 1}, {'龙': 1}, {'头': 1}, {'企': 1}, {'业': 1}, {'、': 1}, {'高': 1}, {'新': 1}, {'技': 1}, {'术': 1}, {'企': 1}, {'业': 1}, {'，': 1}, {'此': 1}, {'前': 1}, {'曾': 1}, {'因': 1}, {'涉': 1}, {'嫌': 1}, {'虚': 1}, {'假': 1}, {'宣': 1}, {'传': 1}, {'“': 1}, {'中': 1}, {'国': 1}, {'最': 1}, {'大': 1}, {'的': 1}, {'蛋': 1}, {'品': 1}, {'企': 1}, {'业': 1}, {'”': 1}, {'而': 1}, {'被': 1}, {'罚': 1}, {'6': 1}, {'万': 1}, {'元': 1}, {'。': 1}]\n",
      "s.idf:  {'\\ufeff': 4.976733742420574, '央': 4.976733742420574, '视': 4.976733742420574, '3': 4.461299815568389, '1': 4.461299815568389, '5': 4.461299815568389, '晚': 4.461299815568389, '会': 4.976733742420574, '曝': 4.976733742420574, '光': 4.976733742420574, '湖': 4.120197941048435, '北': 4.120197941048435, '省': 4.976733742420574, '知': 4.461299815568389, '名': 4.976733742420574, '的': 4.461299815568389, '神': 4.120197941048435, '丹': 4.120197941048435, '牌': 4.461299815568389, '、': 4.120197941048435, '莲': 4.976733742420574, '田': 4.976733742420574, '“': 3.658888740430254, '土': 3.8642323415917974, '鸡': 4.120197941048435, '蛋': 3.8642323415917974, '”': 3.658888740430254, '实': 4.976733742420574, '为': 4.120197941048435, '普': 4.976733742420574, '通': 4.976733742420574, '冒': 4.976733742420574, '充': 4.976733742420574, '，': 3.0934319407556967, '同': 4.976733742420574, '时': 4.976733742420574, '在': 4.976733742420574, '商': 4.461299815568389, '标': 4.461299815568389, '上': 4.976733742420574, '玩': 4.976733742420574, '猫': 4.976733742420574, '腻': 4.976733742420574, '分': 4.976733742420574, '别': 4.976733742420574, '注': 4.461299815568389, '册': 4.461299815568389, '鲜': 4.976733742420574, '好': 4.976733742420574, '让': 4.976733742420574, '消': 4.976733742420574, '费': 4.976733742420574, '者': 4.120197941048435, '误': 4.976733742420574, '以': 4.976733742420574, '是': 4.976733742420574, '。': 4.120197941048435, '月': 4.976733742420574, '日': 4.976733742420574, '间': 4.976733742420574, '新': 3.8642323415917974, '京': 4.461299815568389, '报': 4.461299815568389, '记': 4.461299815568389, '就': 4.976733742420574, '此': 4.461299815568389, '事': 4.976733742420574, '致': 4.976733742420574, '电': 4.976733742420574, '健': 4.461299815568389, '康': 4.461299815568389, '食': 4.461299815568389, '品': 4.120197941048435, '有': 4.461299815568389, '限': 4.461299815568389, '公': 4.461299815568389, '司': 4.461299815568389, '方': 4.976733742420574, '面': 4.976733742420574, '其': 4.976733742420574, '工': 4.976733742420574, '作': 4.976733742420574, '人': 4.976733742420574, '员': 4.976733742420574, '表': 4.976733742420574, '示': 4.976733742420574, '不': 4.976733742420574, '情': 4.461299815568389, '需': 4.976733742420574, '要': 4.976733742420574, '了': 4.976733742420574, '解': 4.976733742420574, '清': 4.976733742420574, '楚': 4.976733742420574, '况': 4.976733742420574, '截': 4.976733742420574, '至': 4.976733742420574, '发': 4.461299815568389, '稿': 4.976733742420574, '暂': 4.976733742420574, '未': 4.976733742420574, '取': 4.976733742420574, '得': 4.976733742420574, '最': 4.461299815568389, '回': 4.976733742420574, '应': 4.976733742420574, '还': 4.976733742420574, '查': 4.976733742420574, '询': 4.976733742420574, '现': 4.976733742420574, '农': 4.976733742420574, '业': 3.658888740430254, '产': 4.976733742420574, '化': 4.976733742420574, '国': 4.461299815568389, '家': 4.976733742420574, '重': 4.976733742420574, '点': 4.976733742420574, '龙': 4.976733742420574, '头': 4.976733742420574, '企': 4.120197941048435, '高': 4.976733742420574, '技': 4.976733742420574, '术': 4.976733742420574, '前': 4.976733742420574, '曾': 4.976733742420574, '因': 4.976733742420574, '涉': 4.976733742420574, '嫌': 4.976733742420574, '虚': 4.976733742420574, '假': 4.976733742420574, '宣': 4.976733742420574, '传': 4.976733742420574, '中': 4.976733742420574, '大': 4.976733742420574, '而': 4.976733742420574, '被': 4.976733742420574, '罚': 4.976733742420574, '6': 4.976733742420574, '万': 4.976733742420574, '元': 4.976733742420574}\n",
      "s.sim(s.keywords(5)):  [0, 0, 0, 0, 0, 0, 0, 0, 0, 0, 0, 0, 0, 0, 0, 0, 0, 0, 4.461299815568389, 0, 0, 0, 4.461299815568389, 0, 3.864232341591797, 0, 0, 0, 0, 0, 0, 0, 0, 0, 0, 0, 0, 0, 0, 0, 0, 0, 0, 0, 0, 0, 0, 0, 0, 0, 0, 0, 0, 3.864232341591797, 0, 0, 0, 0, 0, 0, 3.864232341591797, 0, 0, 0, 0, 0, 0, 0, 0, 0, 0, 0, 0, 0, 3.864232341591797, 0, 0, 0, 0, 0, 0, 0, 0, 0, 0, 0, 0, 0, 0, 0, 0, 0, 0, 0, 0, 0, 0, 0, 0, 0, 0, 0, 0, 0, 0, 0, 0, 0, 0, 0, 0, 0, 0, 0, 0, 0, 0, 0, 0, 0, 0, 0, 0, 0, 0, 0, 0, 0, 0, 0, 0, 0, 0, 0, 0, 0, 0, 0, 0, 0, 0, 0, 0, 0, 0, 0, 0, 0, 0, 0, 0, 0, 0, 0, 0, 0, 0, 0, 0, 0, 0, 0, 0, 0, 0, 0, 0, 0, 0, 0, 0, 0, 0, 0, 0, 0, 0, 0, 0, 0, 0, 0, 0, 0, 0, 0, 0, 0, 0, 0, 0, 0, 0, 0, 0, 0, 0, 0, 0, 0, 0, 0, 0, 0, 0, 0, 0, 0, 0, 0, 0, 0, 0, 0, 0, 0, 0, 0]\n"
     ]
    }
   ],
   "source": [
    "from snownlp import seg, SnowNLP\n",
    "\n",
    "s = SnowNLP(ct)\n",
    "print(\"s.words: \", s.words)  #\n",
    "print(\"s.tags: \", s.tags)\n",
    "print(\"s.sentiments: \", s.sentiments)\n",
    "print(\"s.pinyin: \", s.pinyin)  #\n",
    "print(\"s.keywords(5): \", s.keywords(5))\n",
    "print(\"s.summary(5): \", s.summary(5))\n",
    "print(\"s.sentences: \", s.sentences)\n",
    "print(\"s.tf: \", s.tf)\n",
    "print(\"s.idf: \", s.idf)\n",
    "print(\"s.sim(s.keywords(5)): \", s.sim(s.keywords(5)))"
   ]
  },
  {
   "cell_type": "code",
   "execution_count": 39,
   "metadata": {
    "pycharm": {
     "name": "#%%\n"
    }
   },
   "outputs": [
    {
     "name": "stdout",
     "output_type": "stream",
     "text": [
      "Collecting thulac\n",
      "  Downloading https://pypi.tuna.tsinghua.edu.cn/packages/7c/d1/1529cba069658689b8d9fb90205e0a8d1ff41a507fb9c458e17aa8217cdf/thulac-0.2.2-py3-none-any.whl (53.1MB)\n",
      "Installing collected packages: thulac\n",
      "Successfully installed thulac-0.2.2\n"
     ]
    },
    {
     "name": "stderr",
     "output_type": "stream",
     "text": [
      "  Retrying (Retry(total=4, connect=None, read=None, redirect=None)) after connection broken by 'NewConnectionError('<pip._vendor.requests.packages.urllib3.connection.VerifiedHTTPSConnection object at 0x000001AE22CD3048>: Failed to establish a new connection: [Errno 11001] getaddrinfo failed',)': /simple/thulac/\n",
      "You are using pip version 21.3.1, however version 23.0.1 is available.\n",
      "You should consider upgrading via the 'python -m pip install --upgrade pip' command.\n"
     ]
    }
   ],
   "source": [
    "# THULAC： https://github.com/thunlp/THULAC-Python\n",
    "!pip install thulac --trusted-host pypi.tuna.tsinghua.edu.cn\n",
    "# import sys\n",
    "# sys.path.append(r\"D:\\programs\\utils\\python\")"
   ]
  },
  {
   "cell_type": "code",
   "execution_count": 40,
   "metadata": {
    "pycharm": {
     "name": "#%%\n"
    }
   },
   "outputs": [
    {
     "name": "stdout",
     "output_type": "stream",
     "text": [
      "Model loaded succeed\n",
      "﻿_c 央视_v 315_m 晚会_n 曝光_v 湖北省_ns 知名_a 的_u 神丹牌_nz 、_w 莲田牌_nz “_w 土_a 鸡蛋_n ”_w 实_a 为_v 普通_a 鸡蛋_n 冒充_v ，_w 同时_c 在_p 商标_n 上_f 玩_v 猫腻_n ，_w 分别_d 注册_v “_w 鲜土_n ”_w 、_w 注册_v “_w 好_a 土_n ”_w 商标_n ，_w 让_v 消费者_n 误_d 以为_v 是_v “_w 土鸡蛋_n ”_w 。_w 3月_t 15日_t 晚间_t ，_w 新京报_nz 记者_n 就_p 此事_r 致电_v 湖北_ns 神丹_nz 健康_a 食品_n 有限公司_n 方面_n ，_w 其_r 工作_v 人员_n 表示_v 不_d 知情_v ，_w 需要_v 了_u 解_v 清楚_a 情况_n ，_w 截至_v 发稿_v 暂_d 未_d 取得_v 最新_a 回应_v 。_w 新_a 京报_n 记者_n 还_d 查询_v 发现_v ，_w 湖北_ns 神丹_nz 健康_a 食品_n 有限公司_n 为_p 农业_n 产业化_v 国_m 家_q 重点_n 龙头_n 企业_n 、_w 高新技术_n 企业_n ，_w 此前_t 曾_d 因_p 涉嫌_v 虚假_a 宣传_v “_w 中国_ns 最_d 大_a 的_u 蛋品_n 企业_n ”_w 而_c 被_p 罚_v 6万_m 元_q 。_w\n"
     ]
    }
   ],
   "source": [
    "import thulac\n",
    "\n",
    "thu1 = thulac.thulac()  # 默认模式\n",
    "text = thu1.cut(ct, text=True)  # 进行一句话分词\n",
    "print(text)"
   ]
  },
  {
   "cell_type": "code",
   "execution_count": 43,
   "metadata": {
    "pycharm": {
     "name": "#%%\n"
    }
   },
   "outputs": [
    {
     "name": "stdout",
     "output_type": "stream",
     "text": [
      "Error: unable to fetch newest license.\n"
     ]
    }
   ],
   "source": [
    "# NLPIR： https://github.com/tsroten/pynlpir https://blog.csdn.net/weixin_34613450/article/details/78695166\n",
    "!pip install pynlpir --trusted-host pypi.tuna.tsinghua.edu.cn\n",
    "# !pynlpir update\n",
    "#下载新的NLPIR.user\n",
    "#覆盖到D:\\App\\Anaconda3\\envs\\69t112\\Lib\\site-packages\\pynlpir\\Data中\n",
    "#https://github.com/NLPIR-team/NLPIR/raw/master/License/license%20for%20a%20month/NLPIR-ICTCLAS%E5%88%86%E8%AF%8D%E7%B3%BB%E7%BB%9F%E6%8E%88%E6%9D%83/NLPIR.user"
   ]
  },
  {
   "cell_type": "code",
   "execution_count": 3,
   "metadata": {
    "pycharm": {
     "name": "#%%\n"
    }
   },
   "outputs": [
    {
     "name": "stdout",
     "output_type": "stream",
     "text": [
      "[('央', 'verb'), ('视', 'verb'), ('315', 'numeral'), ('晚会', 'noun'), ('曝光', 'verb'), ('湖北省', 'noun'), ('知名', 'adjective'), ('的', 'particle'), ('神', 'noun'), ('丹', 'distinguishing word'), ('牌', 'noun'), ('、', 'punctuation mark'), ('莲', 'noun'), ('田', 'noun'), ('牌', 'noun'), ('“', 'punctuation mark'), ('土', 'noun'), ('鸡蛋', 'noun'), ('”', 'punctuation mark'), ('实', 'adjective'), ('为', 'verb'), ('普通', 'adjective'), ('鸡蛋', 'noun'), ('冒充', 'verb'), ('，', 'punctuation mark'), ('同时', 'conjunction'), ('在', 'preposition'), ('商标', 'noun'), ('上', 'noun of locality'), ('玩', 'verb'), ('猫腻', 'noun'), ('，', 'punctuation mark'), ('分别', 'adverb'), ('注册', 'verb'), ('“', 'punctuation mark'), ('鲜', 'adjective'), ('土', 'noun'), ('”', 'punctuation mark'), ('、', 'punctuation mark'), ('注册', 'verb'), ('“', 'punctuation mark'), ('好', 'adjective'), ('土', 'noun'), ('”', 'punctuation mark'), ('商标', 'noun'), ('，', 'punctuation mark'), ('让', 'verb'), ('消费者', 'noun'), ('误', 'adverb'), ('以为', 'verb'), ('是', 'verb'), ('“', 'punctuation mark'), ('土', 'noun'), ('鸡蛋', 'noun'), ('”', 'punctuation mark'), ('。', 'punctuation mark'), ('3月', 'time word'), ('15日', 'time word'), ('晚间', 'time word'), ('，', 'punctuation mark'), ('新京报', 'multiword expression'), ('记者', 'noun'), ('就', 'adverb'), ('此事', 'pronoun'), ('致电', 'verb'), ('湖北', 'noun'), ('神', 'noun'), ('丹', 'distinguishing word'), ('健康', 'adjective'), ('食品', 'noun'), ('有限公司', 'noun'), ('方面', 'noun'), ('，', 'punctuation mark'), ('其', 'pronoun'), ('工作', 'verb'), ('人员', 'noun'), ('表示', 'verb'), ('不', 'adverb'), ('知', 'verb'), ('情', 'noun'), ('，', 'punctuation mark'), ('需要', 'verb'), ('了解', 'verb'), ('清楚', 'adjective'), ('情况', 'noun'), ('，', 'punctuation mark'), ('截至', 'verb'), ('发稿', 'verb'), ('暂', 'adverb'), ('未', 'adverb'), ('取得', 'verb'), ('最新', 'adjective'), ('回应', 'verb'), ('。', 'punctuation mark'), ('新京报', 'multiword expression'), ('记者', 'noun'), ('还', 'adverb'), ('查询', 'verb'), ('发现', 'verb'), ('，', 'punctuation mark'), ('湖北', 'noun'), ('神', 'noun'), ('丹', 'distinguishing word'), ('健康', 'adjective'), ('食品', 'noun'), ('有限公司', 'noun'), ('为', 'preposition'), ('农业', 'noun'), ('产业化', 'verb'), ('国家', 'noun'), ('重点', 'noun'), ('龙头', 'noun'), ('企业', 'noun'), ('、', 'punctuation mark'), ('高新技术', 'noun'), ('企业', 'noun'), ('，', 'punctuation mark'), ('此前', 'time word'), ('曾', 'adverb'), ('因', 'preposition'), ('涉嫌', 'verb'), ('虚假', 'adjective'), ('宣传', 'verb'), ('“', 'punctuation mark'), ('中国', 'noun'), ('最', 'adverb'), ('大', 'adjective'), ('的', 'particle'), ('蛋品', 'noun'), ('企业', 'noun'), ('”', 'punctuation mark'), ('而', 'conjunction'), ('被', 'preposition'), ('罚', 'verb'), ('6万', 'numeral'), ('元', 'classifier'), ('。', 'punctuation mark')]\n"
     ]
    }
   ],
   "source": [
    "import pynlpir\n",
    "pynlpir.open()\n",
    "print(pynlpir.segment(ct))"
   ]
  },
  {
   "cell_type": "code",
   "execution_count": 4,
   "metadata": {
    "pycharm": {
     "name": "#%%\n"
    }
   },
   "outputs": [
    {
     "name": "stdout",
     "output_type": "stream",
     "text": [
      "Collecting stanfordcorenlp\n",
      "  Downloading https://pypi.tuna.tsinghua.edu.cn/packages/35/cb/0a271890bbe3a77fc1aca2bc3a58b14e11799ea77cb5f7d6fb0a8b4c46fa/stanfordcorenlp-3.9.1.1-py2.py3-none-any.whl\n",
      "Collecting psutil (from stanfordcorenlp)\n",
      "  Downloading https://pypi.tuna.tsinghua.edu.cn/packages/3d/7d/d05864a69e452f003c0d77e728e155a89a2a26b09e64860ddd70ad64fb26/psutil-5.9.4.tar.gz (485kB)\n",
      "Requirement already satisfied: requests in d:\\app\\anaconda3\\envs\\69t112\\lib\\site-packages (from stanfordcorenlp)\n",
      "Building wheels for collected packages: psutil\n",
      "  Running setup.py bdist_wheel for psutil: started\n",
      "  Running setup.py bdist_wheel for psutil: finished with status 'error'\n",
      "  Complete output from command D:\\App\\Anaconda3\\envs\\69t112\\python.exe -u -c \"import setuptools, tokenize;__file__='C:\\\\Users\\\\Friendy\\\\AppData\\\\Local\\\\Temp\\\\pip-build-zdzrink0\\\\psutil\\\\setup.py';f=getattr(tokenize, 'open', open)(__file__);code=f.read().replace('\\r\\n', '\\n');f.close();exec(compile(code, __file__, 'exec'))\" bdist_wheel -d C:\\Users\\Friendy\\AppData\\Local\\Temp\\tmpz_tr94w4pip-wheel- --python-tag cp36:\n",
      "  running bdist_wheel\n",
      "  running build\n",
      "  running build_py\n",
      "  creating build\n",
      "  creating build\\lib.win-amd64-3.6\n",
      "  creating build\\lib.win-amd64-3.6\\psutil\n",
      "  copying psutil\\_common.py -> build\\lib.win-amd64-3.6\\psutil\n",
      "  copying psutil\\_compat.py -> build\\lib.win-amd64-3.6\\psutil\n",
      "  copying psutil\\_psaix.py -> build\\lib.win-amd64-3.6\\psutil\n",
      "  copying psutil\\_psbsd.py -> build\\lib.win-amd64-3.6\\psutil\n",
      "  copying psutil\\_pslinux.py -> build\\lib.win-amd64-3.6\\psutil\n",
      "  copying psutil\\_psosx.py -> build\\lib.win-amd64-3.6\\psutil\n",
      "  copying psutil\\_psposix.py -> build\\lib.win-amd64-3.6\\psutil\n",
      "  copying psutil\\_pssunos.py -> build\\lib.win-amd64-3.6\\psutil\n",
      "  copying psutil\\_pswindows.py -> build\\lib.win-amd64-3.6\\psutil\n",
      "  copying psutil\\__init__.py -> build\\lib.win-amd64-3.6\\psutil\n",
      "  creating build\\lib.win-amd64-3.6\\psutil\\tests\n",
      "  copying psutil\\tests\\runner.py -> build\\lib.win-amd64-3.6\\psutil\\tests\n",
      "  copying psutil\\tests\\test_aix.py -> build\\lib.win-amd64-3.6\\psutil\\tests\n",
      "  copying psutil\\tests\\test_bsd.py -> build\\lib.win-amd64-3.6\\psutil\\tests\n",
      "  copying psutil\\tests\\test_connections.py -> build\\lib.win-amd64-3.6\\psutil\\tests\n",
      "  copying psutil\\tests\\test_contracts.py -> build\\lib.win-amd64-3.6\\psutil\\tests\n",
      "  copying psutil\\tests\\test_linux.py -> build\\lib.win-amd64-3.6\\psutil\\tests\n",
      "  copying psutil\\tests\\test_memleaks.py -> build\\lib.win-amd64-3.6\\psutil\\tests\n",
      "  copying psutil\\tests\\test_misc.py -> build\\lib.win-amd64-3.6\\psutil\\tests\n",
      "  copying psutil\\tests\\test_osx.py -> build\\lib.win-amd64-3.6\\psutil\\tests\n",
      "  copying psutil\\tests\\test_posix.py -> build\\lib.win-amd64-3.6\\psutil\\tests\n",
      "  copying psutil\\tests\\test_process.py -> build\\lib.win-amd64-3.6\\psutil\\tests\n",
      "  copying psutil\\tests\\test_sunos.py -> build\\lib.win-amd64-3.6\\psutil\\tests\n",
      "  copying psutil\\tests\\test_system.py -> build\\lib.win-amd64-3.6\\psutil\\tests\n",
      "  copying psutil\\tests\\test_testutils.py -> build\\lib.win-amd64-3.6\\psutil\\tests\n",
      "  copying psutil\\tests\\test_unicode.py -> build\\lib.win-amd64-3.6\\psutil\\tests\n",
      "  copying psutil\\tests\\test_windows.py -> build\\lib.win-amd64-3.6\\psutil\\tests\n",
      "  copying psutil\\tests\\__init__.py -> build\\lib.win-amd64-3.6\\psutil\\tests\n",
      "  copying psutil\\tests\\__main__.py -> build\\lib.win-amd64-3.6\\psutil\\tests\n",
      "  running build_ext\n",
      "  building 'psutil._psutil_windows' extension\n",
      "  error: Microsoft Visual C++ 14.0 is required. Get it with \"Microsoft Visual C++ Build Tools\": http://landinghub.visualstudio.com/visual-cpp-build-tools\n",
      "  \n",
      "  ----------------------------------------\n",
      "  Running setup.py clean for psutil\n",
      "Failed to build psutil\n",
      "Installing collected packages: psutil, stanfordcorenlp\n",
      "  Running setup.py install for psutil: started\n",
      "    Running setup.py install for psutil: finished with status 'error'\n",
      "    Complete output from command D:\\App\\Anaconda3\\envs\\69t112\\python.exe -u -c \"import setuptools, tokenize;__file__='C:\\\\Users\\\\Friendy\\\\AppData\\\\Local\\\\Temp\\\\pip-build-zdzrink0\\\\psutil\\\\setup.py';f=getattr(tokenize, 'open', open)(__file__);code=f.read().replace('\\r\\n', '\\n');f.close();exec(compile(code, __file__, 'exec'))\" install --record C:\\Users\\Friendy\\AppData\\Local\\Temp\\pip-j_pv6inm-record\\install-record.txt --single-version-externally-managed --compile:\n",
      "    running install\n",
      "    running build\n",
      "    running build_py\n",
      "    creating build\n",
      "    creating build\\lib.win-amd64-3.6\n",
      "    creating build\\lib.win-amd64-3.6\\psutil\n",
      "    copying psutil\\_common.py -> build\\lib.win-amd64-3.6\\psutil\n",
      "    copying psutil\\_compat.py -> build\\lib.win-amd64-3.6\\psutil\n",
      "    copying psutil\\_psaix.py -> build\\lib.win-amd64-3.6\\psutil\n",
      "    copying psutil\\_psbsd.py -> build\\lib.win-amd64-3.6\\psutil\n",
      "    copying psutil\\_pslinux.py -> build\\lib.win-amd64-3.6\\psutil\n",
      "    copying psutil\\_psosx.py -> build\\lib.win-amd64-3.6\\psutil\n",
      "    copying psutil\\_psposix.py -> build\\lib.win-amd64-3.6\\psutil\n",
      "    copying psutil\\_pssunos.py -> build\\lib.win-amd64-3.6\\psutil\n",
      "    copying psutil\\_pswindows.py -> build\\lib.win-amd64-3.6\\psutil\n",
      "    copying psutil\\__init__.py -> build\\lib.win-amd64-3.6\\psutil\n",
      "    creating build\\lib.win-amd64-3.6\\psutil\\tests\n",
      "    copying psutil\\tests\\runner.py -> build\\lib.win-amd64-3.6\\psutil\\tests\n",
      "    copying psutil\\tests\\test_aix.py -> build\\lib.win-amd64-3.6\\psutil\\tests\n",
      "    copying psutil\\tests\\test_bsd.py -> build\\lib.win-amd64-3.6\\psutil\\tests\n",
      "    copying psutil\\tests\\test_connections.py -> build\\lib.win-amd64-3.6\\psutil\\tests\n",
      "    copying psutil\\tests\\test_contracts.py -> build\\lib.win-amd64-3.6\\psutil\\tests\n",
      "    copying psutil\\tests\\test_linux.py -> build\\lib.win-amd64-3.6\\psutil\\tests\n",
      "    copying psutil\\tests\\test_memleaks.py -> build\\lib.win-amd64-3.6\\psutil\\tests\n",
      "    copying psutil\\tests\\test_misc.py -> build\\lib.win-amd64-3.6\\psutil\\tests\n",
      "    copying psutil\\tests\\test_osx.py -> build\\lib.win-amd64-3.6\\psutil\\tests\n",
      "    copying psutil\\tests\\test_posix.py -> build\\lib.win-amd64-3.6\\psutil\\tests\n",
      "    copying psutil\\tests\\test_process.py -> build\\lib.win-amd64-3.6\\psutil\\tests\n",
      "    copying psutil\\tests\\test_sunos.py -> build\\lib.win-amd64-3.6\\psutil\\tests\n",
      "    copying psutil\\tests\\test_system.py -> build\\lib.win-amd64-3.6\\psutil\\tests\n",
      "    copying psutil\\tests\\test_testutils.py -> build\\lib.win-amd64-3.6\\psutil\\tests\n",
      "    copying psutil\\tests\\test_unicode.py -> build\\lib.win-amd64-3.6\\psutil\\tests\n",
      "    copying psutil\\tests\\test_windows.py -> build\\lib.win-amd64-3.6\\psutil\\tests\n",
      "    copying psutil\\tests\\__init__.py -> build\\lib.win-amd64-3.6\\psutil\\tests\n",
      "    copying psutil\\tests\\__main__.py -> build\\lib.win-amd64-3.6\\psutil\\tests\n",
      "    running build_ext\n",
      "    building 'psutil._psutil_windows' extension\n",
      "    error: Microsoft Visual C++ 14.0 is required. Get it with \"Microsoft Visual C++ Build Tools\": http://landinghub.visualstudio.com/visual-cpp-build-tools\n",
      "    \n",
      "    ----------------------------------------\n"
     ]
    },
    {
     "name": "stderr",
     "output_type": "stream",
     "text": [
      "  Retrying (Retry(total=4, connect=None, read=None, redirect=None)) after connection broken by 'NewConnectionError('<pip._vendor.requests.packages.urllib3.connection.VerifiedHTTPSConnection object at 0x0000028A2737B8D0>: Failed to establish a new connection: [Errno 11002] getaddrinfo failed',)': /simple/stanfordcorenlp/\n",
      "  Retrying (Retry(total=3, connect=None, read=None, redirect=None)) after connection broken by 'NewConnectionError('<pip._vendor.requests.packages.urllib3.connection.VerifiedHTTPSConnection object at 0x0000028A2737B080>: Failed to establish a new connection: [Errno 11002] getaddrinfo failed',)': /simple/stanfordcorenlp/\n",
      "  Failed building wheel for psutil\n",
      "Command \"D:\\App\\Anaconda3\\envs\\69t112\\python.exe -u -c \"import setuptools, tokenize;__file__='C:\\\\Users\\\\Friendy\\\\AppData\\\\Local\\\\Temp\\\\pip-build-zdzrink0\\\\psutil\\\\setup.py';f=getattr(tokenize, 'open', open)(__file__);code=f.read().replace('\\r\\n', '\\n');f.close();exec(compile(code, __file__, 'exec'))\" install --record C:\\Users\\Friendy\\AppData\\Local\\Temp\\pip-j_pv6inm-record\\install-record.txt --single-version-externally-managed --compile\" failed with error code 1 in C:\\Users\\Friendy\\AppData\\Local\\Temp\\pip-build-zdzrink0\\psutil\\\n",
      "You are using pip version 21.3.1, however version 23.0.1 is available.\n",
      "You should consider upgrading via the 'python -m pip install --upgrade pip' command.\n"
     ]
    }
   ],
   "source": [
    "# StanfordCoreNLP： https://github.com/Lynten/stanford-corenlp\n",
    "!pip install stanfordcorenlp --trusted-host pypi.tuna.tsinghua.edu.cn\n",
    "#--trusted-host pypi.mirrors.ustc.edu.cn"
   ]
  },
  {
   "cell_type": "code",
   "execution_count": 8,
   "metadata": {
    "pycharm": {
     "name": "#%%\n"
    }
   },
   "outputs": [
    {
     "name": "stdout",
     "output_type": "stream",
     "text": [
      "['\\ufeff', '央视', '315', '晚会', '曝光', '湖北省', '知名', '的', '神丹', '牌', '、', '莲', '田', '牌', '“', '土', '鸡蛋', '”', '实为', '普通', '鸡蛋', '冒充', '，', '同时', '在', '商标', '上', '玩', '猫腻', '，', '分别', '注册', '“', '鲜土', '”', '、', '注册', '“', '好', '土', '”', '商标', '，', '让', '消费者', '误以为', '是', '“', '土', '鸡蛋', '”', '。', '3月', '15日', '晚间', '，', '新京报', '记者', '就此事', '致电', '湖北', '神丹', '健康', '食品', '有限', '公司', '方面', '，', '其', '工作', '人员', '表示', '不知情', '，', '需要', '了解', '清楚', '情况', '，', '截至', '发稿', '暂', '未', '取得', '最新', '回应', '。', '新京报', '记者', '还', '查询', '发现', '，', '湖北', '神丹', '健康', '食品', '有限', '公司', '为', '农业', '产业化', '国家', '重点', '龙头', '企业', '、', '高', '新', '技术', '企业', '，', '此前', '曾', '因', '涉嫌', '虚假', '宣传', '“', '中国', '最', '大', '的', '蛋品', '企业', '”', '而', '被', '罚', '6万', '元', '。']\n"
     ]
    }
   ],
   "source": [
    "from stanfordcorenlp import StanfordCoreNLP\n",
    "with StanfordCoreNLP(r'F:\\envs\\datas\\stanford-corenlp-full-2018-02-27',\n",
    "                     lang='zh') as nlp:\n",
    "    print(nlp.word_tokenize(ct))"
   ]
  },
  {
   "cell_type": "code",
   "execution_count": 7,
   "metadata": {
    "pycharm": {
     "name": "#%%\n"
    }
   },
   "outputs": [
    {
     "name": "stdout",
     "output_type": "stream",
     "text": [
      "Collecting package metadata (current_repodata.json): ...working... done\n",
      "Solving environment: ...working... failed with initial frozen solve. Retrying with flexible solve.\n",
      "Collecting package metadata (repodata.json): ...working... done\n",
      "Solving environment: ...working... failed with initial frozen solve. Retrying with flexible solve.\n"
     ]
    },
    {
     "name": "stderr",
     "output_type": "stream",
     "text": [
      "\n",
      "PackagesNotFoundError: The following packages are not available from current channels:\n",
      "\n",
      "  - pyhanlp\n",
      "\n",
      "Current channels:\n",
      "\n",
      "  - http://mirrors.tuna.tsinghua.edu.cn/anaconda/pkgs/free/win-64\n",
      "  - http://mirrors.tuna.tsinghua.edu.cn/anaconda/pkgs/free/noarch\n",
      "  - http://mirrors.tuna.tsinghua.edu.cn/anaconda/pkgs/main/win-64\n",
      "  - http://mirrors.tuna.tsinghua.edu.cn/anaconda/pkgs/main/noarch\n",
      "  - http://mirrors.tuna.tsinghua.edu.cn/anaconda/cloud/conda-forge/win-64\n",
      "  - http://mirrors.tuna.tsinghua.edu.cn/anaconda/cloud/conda-forge/noarch\n",
      "  - http://mirrors.tuna.tsinghua.edu.cn/anaconda/cloud//pytorch/win-64\n",
      "  - http://mirrors.tuna.tsinghua.edu.cn/anaconda/cloud//pytorch/noarch\n",
      "  - https://repo.anaconda.com/pkgs/main/win-64\n",
      "  - https://repo.anaconda.com/pkgs/main/noarch\n",
      "  - https://repo.anaconda.com/pkgs/r/win-64\n",
      "  - https://repo.anaconda.com/pkgs/r/noarch\n",
      "  - https://repo.anaconda.com/pkgs/msys2/win-64\n",
      "  - https://repo.anaconda.com/pkgs/msys2/noarch\n",
      "\n",
      "To search for alternate channels that may provide the conda package you're\n",
      "looking for, navigate to\n",
      "\n",
      "    https://anaconda.org\n",
      "\n",
      "and use the search bar at the top of the page.\n",
      "\n",
      "\n"
     ]
    }
   ],
   "source": [
    "# HanLP（选做，需要额外安装 Microsoft Visual C++ 14.0） https://github.com/hankcs/pyhanlp\n",
    "!conda install pyhanlp"
   ]
  },
  {
   "cell_type": "code",
   "execution_count": 6,
   "metadata": {
    "pycharm": {
     "name": "#%%\n"
    }
   },
   "outputs": [
    {
     "name": "stdout",
     "output_type": "stream",
     "text": [
      "# packages in environment at D:\\App\\Anaconda3\\envs\\69t112:\n",
      "#\n",
      "# Name                    Version                   Build  Channel\n",
      "absl-py                   1.3.0                    pypi_0    pypi\n",
      "astor                     0.8.1                    pypi_0    pypi\n",
      "blas                      1.0                         mkl    http://mirrors.tuna.tsinghua.edu.cn/anaconda/pkgs/free\n",
      "blis                      0.7.9                    pypi_0    pypi\n",
      "boto                      2.48.0                   py36_0    http://mirrors.tuna.tsinghua.edu.cn/anaconda/pkgs/free\n",
      "bz2file                   0.98                     py36_0    http://mirrors.tuna.tsinghua.edu.cn/anaconda/pkgs/free\n",
      "cached-property           1.5.2                    pypi_0    pypi\n",
      "catalogue                 2.0.8                    pypi_0    pypi\n",
      "certifi                   2016.2.28                py36_0    http://mirrors.tuna.tsinghua.edu.cn/anaconda/pkgs/free\n",
      "click                     7.1.2                    pypi_0    pypi\n",
      "colorama                  0.3.9                    py36_0    http://mirrors.tuna.tsinghua.edu.cn/anaconda/pkgs/free\n",
      "confection                0.0.4                    pypi_0    pypi\n",
      "contextvars               2.4                      pypi_0    pypi\n",
      "cudatoolkit               9.0                           1    http://mirrors.tuna.tsinghua.edu.cn/anaconda/pkgs/main\n",
      "cudnn                     7.6.5                 cuda9.0_0    http://mirrors.tuna.tsinghua.edu.cn/anaconda/pkgs/main\n",
      "cymem                     2.0.7                    pypi_0    pypi\n",
      "dataclasses               0.8                      pypi_0    pypi\n",
      "decorator                 4.1.2                    py36_0    http://mirrors.tuna.tsinghua.edu.cn/anaconda/pkgs/free\n",
      "en-core-web-sm            3.0.0                    pypi_0    pypi\n",
      "gast                      0.5.3                    pypi_0    pypi\n",
      "gensim                    2.3.0               np113py36_0    http://mirrors.tuna.tsinghua.edu.cn/anaconda/pkgs/free\n",
      "grpcio                    1.48.2                   pypi_0    pypi\n",
      "h5py                      2.10.0                   pypi_0    pypi\n",
      "immutables                0.19                     pypi_0    pypi\n",
      "importlib-metadata        4.8.3                    pypi_0    pypi\n",
      "importlib-resources       5.4.0                    pypi_0    pypi\n",
      "ipykernel                 4.6.1                    py36_0    http://mirrors.tuna.tsinghua.edu.cn/anaconda/pkgs/free\n",
      "ipython                   6.1.0                    py36_0    http://mirrors.tuna.tsinghua.edu.cn/anaconda/pkgs/free\n",
      "ipython_genutils          0.2.0                    py36_0    http://mirrors.tuna.tsinghua.edu.cn/anaconda/pkgs/free\n",
      "jedi                      0.10.2                   py36_2    http://mirrors.tuna.tsinghua.edu.cn/anaconda/pkgs/free\n",
      "jieba                     0.42.1                   pypi_0    pypi\n",
      "jinja2                    3.0.3                    pypi_0    pypi\n",
      "jupyter_client            5.1.0                    py36_0    http://mirrors.tuna.tsinghua.edu.cn/anaconda/pkgs/free\n",
      "jupyter_core              4.3.0                    py36_0    http://mirrors.tuna.tsinghua.edu.cn/anaconda/pkgs/free\n",
      "keras                     2.6.0              pyhd3eb1b0_0    http://mirrors.tuna.tsinghua.edu.cn/anaconda/pkgs/main\n",
      "keras-applications        1.0.8                    pypi_0    pypi\n",
      "keras-preprocessing       1.1.2                    pypi_0    pypi\n",
      "langcodes                 3.3.0                    pypi_0    pypi\n",
      "markdown                  3.3.7                    pypi_0    pypi\n",
      "markupsafe                2.0.1                    pypi_0    pypi\n",
      "mkl                       2017.0.3                      0    http://mirrors.tuna.tsinghua.edu.cn/anaconda/pkgs/free\n",
      "murmurhash                1.0.9                    pypi_0    pypi\n",
      "nltk                      3.2.4                    py36_0    http://mirrors.tuna.tsinghua.edu.cn/anaconda/pkgs/free\n",
      "numpy                     1.19.5                   pypi_0    pypi\n",
      "objgraph                  3.5.0                    pypi_0    pypi\n",
      "packaging                 21.3                     pypi_0    pypi\n",
      "paddlepaddle-tiny         1.6.1                    pypi_0    pypi\n",
      "path.py                   10.3.1                   py36_0    http://mirrors.tuna.tsinghua.edu.cn/anaconda/pkgs/free\n",
      "pathy                     0.10.1                   pypi_0    pypi\n",
      "pickleshare               0.7.4                    py36_0    http://mirrors.tuna.tsinghua.edu.cn/anaconda/pkgs/free\n",
      "pip                       21.3.1                   pypi_0    pypi\n",
      "preshed                   3.0.8                    pypi_0    pypi\n",
      "prompt_toolkit            1.0.15                   py36_0    http://mirrors.tuna.tsinghua.edu.cn/anaconda/pkgs/free\n",
      "protobuf                  3.19.6                   pypi_0    pypi\n",
      "pydantic                  1.8.2                    pypi_0    pypi\n",
      "pygments                  2.2.0                    py36_0    http://mirrors.tuna.tsinghua.edu.cn/anaconda/pkgs/free\n",
      "pynlpir                   0.6.0                    pypi_0    pypi\n",
      "pyparsing                 3.0.7                    pypi_0    pypi\n",
      "python                    3.6.2                         0    http://mirrors.tuna.tsinghua.edu.cn/anaconda/pkgs/free\n",
      "python-dateutil           2.6.1                    py36_0    http://mirrors.tuna.tsinghua.edu.cn/anaconda/pkgs/free\n",
      "python-graphviz           0.19.1                   pypi_0    pypi\n",
      "pyzmq                     16.0.2                   py36_0    http://mirrors.tuna.tsinghua.edu.cn/anaconda/pkgs/free\n",
      "requests                  2.14.2                   py36_0    http://mirrors.tuna.tsinghua.edu.cn/anaconda/pkgs/free\n",
      "scikit-learn              0.20.0                   pypi_0    pypi\n",
      "scipy                     1.5.4                    pypi_0    pypi\n",
      "setuptools                36.4.0                   py36_1    http://mirrors.tuna.tsinghua.edu.cn/anaconda/pkgs/free\n",
      "simplegeneric             0.8.1                    py36_1    http://mirrors.tuna.tsinghua.edu.cn/anaconda/pkgs/free\n",
      "six                       1.16.0                   pypi_0    pypi\n",
      "smart-open                6.3.0                    pypi_0    pypi\n",
      "snownlp                   0.12.3                   pypi_0    pypi\n",
      "spacy                     3.0.9                    pypi_0    pypi\n",
      "spacy-legacy              3.0.12                   pypi_0    pypi\n",
      "spacy-loggers             1.0.4                    pypi_0    pypi\n",
      "srsly                     2.4.6                    pypi_0    pypi\n",
      "tensorboard               1.12.2                   pypi_0    pypi\n",
      "tensorflow-gpu            1.12.0                   pypi_0    pypi\n",
      "termcolor                 1.1.0                    pypi_0    pypi\n",
      "thinc                     8.0.17                   pypi_0    pypi\n",
      "thulac                    0.2.2                    pypi_0    pypi\n",
      "tornado                   4.5.2                    py36_0    http://mirrors.tuna.tsinghua.edu.cn/anaconda/pkgs/free\n",
      "tqdm                      4.64.1                   pypi_0    pypi\n",
      "traitlets                 4.3.2                    py36_0    http://mirrors.tuna.tsinghua.edu.cn/anaconda/pkgs/free\n",
      "typer                     0.3.2                    pypi_0    pypi\n",
      "typing-extensions         3.10.0.2                 pypi_0    pypi\n",
      "vc                        14                            0    http://mirrors.tuna.tsinghua.edu.cn/anaconda/pkgs/free\n",
      "vs2015_runtime            14.0.25420                    0    http://mirrors.tuna.tsinghua.edu.cn/anaconda/pkgs/free\n",
      "wasabi                    0.10.1                   pypi_0    pypi\n",
      "wcwidth                   0.1.7                    py36_0    http://mirrors.tuna.tsinghua.edu.cn/anaconda/pkgs/free\n",
      "werkzeug                  2.0.3                    pypi_0    pypi\n",
      "wheel                     0.29.0                   py36_0    http://mirrors.tuna.tsinghua.edu.cn/anaconda/pkgs/free\n",
      "wincertstore              0.2                      py36_0    http://mirrors.tuna.tsinghua.edu.cn/anaconda/pkgs/free\n",
      "zipp                      3.6.0                    pypi_0    pypi\n"
     ]
    }
   ],
   "source": [
    "!conda list"
   ]
  },
  {
   "cell_type": "code",
   "execution_count": 7,
   "metadata": {
    "pycharm": {
     "name": "#%%\n"
    }
   },
   "outputs": [
    {
     "name": "stdout",
     "output_type": "stream",
     "text": [
      "下载 https://file.hankcs.com/hanlp/hanlp-1.8.4-release.zip 到 F:\\envs\\pyhanlp\\Lib\\site-packages\\pyhanlp\\static\\hanlp-1.8.4-release.zip\n",
      "100%   1.8 MiB   1.8 MiB/s ETA:  0 s [=========================================]\n",
      "下载 https://file.hankcs.com/hanlp/data-for-1.7.5.zip 到 F:\\envs\\pyhanlp\\Lib\\site-packages\\pyhanlp\\static\\data-for-1.8.4.zip\n",
      "100% 637.7 MiB 273.3 KiB/s ETA:  0 s [=========================================]\n",
      "                                                                                \r"
     ]
    },
    {
     "name": "stderr",
     "output_type": "stream",
     "text": [
      "解压 data.zip...                                                                                      \n"
     ]
    },
    {
     "name": "stdout",
     "output_type": "stream",
     "text": [
      "[﻿/w, 央视/j, 315/m, 晚会/n, 曝光/vi, 湖北省/ns, 知名/a, 的/ude1, 神丹/nz, 牌/n, 、/w, 莲田/n, 牌/n, “/w, 土鸡蛋/nz, ”/w, 实为/v, 普通/a, 鸡蛋/nf, 冒充/v, ，/w, 同时/c, 在/p, 商标/n, 上/f, 玩/v, 猫腻/n, ，/w, 分别/d, 注册/vn, “/w, 鲜/a, 土/n, ”/w, 、/w, 注册/vn, “/w, 好/a, 土/n, ”/w, 商标/n, ，/w, 让/v, 消费者/n, 误以为/i, 是/vshi, “/w, 土鸡蛋/nz, ”/w, 。/w, 3月/t, 15/m, 日/b, 晚间/t, ，/w, 新京报/nz, 记者/nnt, 就/d, 此事/r, 致电/v, 湖北/ns, 神丹/nz, 健康/a, 食品/n, 有限公司/nis, 方面/n, ，/w, 其/rz, 工作人员/nnt, 表示/v, 不知情/i, ，/w, 需要/v, 了解/v, 清楚/a, 情况/n, ，/w, 截至/v, 发稿/vi, 暂/d, 未/d, 取得/v, 最新/a, 回应/vn, 。/w, 新京报/nz, 记者/nnt, 还/d, 查询/v, 发现/v, ，/w, 湖北/ns, 神丹/nz, 健康/a, 食品/n, 有限公司/nis, 为/p, 农业/n, 产业化/vn, 国家/n, 重点/n, 龙头企业/nz, 、/w, 高新技术/n, 企业/n, ，/w, 此前/t, 曾/d, 因涉嫌/n, 虚假/a, 宣传/vn, “/w, 中国/ns, 最大/gm, 的/ude1, 蛋品/n, 企业/n, ”/w, 而/cc, 被罚/nz, 6/m, 万/m, 元/q, 。/w]\n"
     ]
    }
   ],
   "source": [
    "from pyhanlp import HanLP\n",
    "print(HanLP.segment(ct))"
   ]
  },
  {
   "cell_type": "markdown",
   "metadata": {
    "pycharm": {
     "name": "#%% md\n"
    }
   },
   "source": [
    "英文分词"
   ]
  },
  {
   "cell_type": "code",
   "execution_count": null,
   "metadata": {
    "pycharm": {
     "name": "#%%\n"
    }
   },
   "outputs": [],
   "source": [
    "# NLTK： http://www.nltk.org/index.html https://github.com/nltk/nltk https://www.jianshu.com/p/9d232e4a3c28"
   ]
  },
  {
   "cell_type": "code",
   "execution_count": 5,
   "metadata": {
    "pycharm": {
     "name": "#%%\n"
    }
   },
   "outputs": [
    {
     "name": "stdout",
     "output_type": "stream",
     "text": [
      "['Trump', 'was', 'born', 'and', 'raised', 'in', 'the', 'New', 'York', 'City', 'borough', 'of', 'Queens', 'and', 'received', 'an', 'economics', 'degree', 'from', 'the', 'Wharton', 'School', '.', 'He', 'was', 'appointed', 'president', 'of', 'his', 'family', \"'s\", 'real', 'estate', 'business', 'in', '1971', ',', 'renamed', 'it', 'The', 'Trump', 'Organization', ',', 'and', 'expanded', 'it', 'from', 'Queens', 'and', 'Brooklyn', 'into', 'Manhattan', '.', 'The', 'company', 'built', 'or', 'renovated', 'skyscrapers', ',', 'hotels', ',', 'casinos', ',', 'and', 'golf', 'courses', '.', 'Trump', 'later', 'started', 'various', 'side', 'ventures', ',', 'including', 'licensing', 'his', 'name', 'for', 'real', 'estate', 'and', 'consumer', 'products', '.', 'He', 'managed', 'the', 'company', 'until', 'his', '2017', 'inauguration', '.', 'He', 'co-authored', 'several', 'books', ',', 'including', 'The', 'Art', 'of', 'the', 'Deal', '.', 'He', 'owned', 'the', 'Miss', 'Universe', 'and', 'Miss', 'USA', 'beauty', 'pageants', 'from', '1996', 'to', '2015', ',', 'and', 'he', 'produced', 'and', 'hosted', 'The', 'Apprentice', ',', 'a', 'reality', 'television', 'show', ',', 'from', '2003', 'to', '2015', '.', 'Forbes', 'estimates', 'his', 'net', 'worth', 'to', 'be', '$', '3.1', 'billion', '.']\n"
     ]
    }
   ],
   "source": [
    "import nltk\n",
    "print(nltk.word_tokenize(et))"
   ]
  },
  {
   "cell_type": "code",
   "execution_count": 6,
   "metadata": {
    "pycharm": {
     "name": "#%%\n"
    }
   },
   "outputs": [
    {
     "name": "stdout",
     "output_type": "stream",
     "text": [
      "[!] As of spaCy v3.0, shortcuts like 'en' are deprecated. Please use the full\n",
      "pipeline package name 'en_core_web_sm' instead.\n"
     ]
    },
    {
     "name": "stderr",
     "output_type": "stream",
     "text": [
      "D:\\App\\Anaconda3\\envs\\69t112\\lib\\site-packages\\tensorflow\\python\\framework\\dtypes.py:523: FutureWarning: Passing (type, 1) or '1type' as a synonym of type is deprecated; in a future version of numpy, it will be understood as (type, (1,)) / '(1,)type'.\n",
      "  _np_qint8 = np.dtype([(\"qint8\", np.int8, 1)])\n",
      "D:\\App\\Anaconda3\\envs\\69t112\\lib\\site-packages\\tensorflow\\python\\framework\\dtypes.py:524: FutureWarning: Passing (type, 1) or '1type' as a synonym of type is deprecated; in a future version of numpy, it will be understood as (type, (1,)) / '(1,)type'.\n",
      "  _np_quint8 = np.dtype([(\"quint8\", np.uint8, 1)])\n",
      "D:\\App\\Anaconda3\\envs\\69t112\\lib\\site-packages\\tensorflow\\python\\framework\\dtypes.py:525: FutureWarning: Passing (type, 1) or '1type' as a synonym of type is deprecated; in a future version of numpy, it will be understood as (type, (1,)) / '(1,)type'.\n",
      "  _np_qint16 = np.dtype([(\"qint16\", np.int16, 1)])\n",
      "D:\\App\\Anaconda3\\envs\\69t112\\lib\\site-packages\\tensorflow\\python\\framework\\dtypes.py:526: FutureWarning: Passing (type, 1) or '1type' as a synonym of type is deprecated; in a future version of numpy, it will be understood as (type, (1,)) / '(1,)type'.\n",
      "  _np_quint16 = np.dtype([(\"quint16\", np.uint16, 1)])\n",
      "D:\\App\\Anaconda3\\envs\\69t112\\lib\\site-packages\\tensorflow\\python\\framework\\dtypes.py:527: FutureWarning: Passing (type, 1) or '1type' as a synonym of type is deprecated; in a future version of numpy, it will be understood as (type, (1,)) / '(1,)type'.\n",
      "  _np_qint32 = np.dtype([(\"qint32\", np.int32, 1)])\n",
      "D:\\App\\Anaconda3\\envs\\69t112\\lib\\site-packages\\tensorflow\\python\\framework\\dtypes.py:532: FutureWarning: Passing (type, 1) or '1type' as a synonym of type is deprecated; in a future version of numpy, it will be understood as (type, (1,)) / '(1,)type'.\n",
      "  np_resource = np.dtype([(\"resource\", np.ubyte, 1)])\n",
      "Traceback (most recent call last):\n",
      "  File \"D:\\App\\Anaconda3\\envs\\69t112\\lib\\site-packages\\requests\\packages\\urllib3\\connection.py\", line 141, in _new_conn\n",
      "    (self.host, self.port), self.timeout, **extra_kw)\n",
      "  File \"D:\\App\\Anaconda3\\envs\\69t112\\lib\\site-packages\\requests\\packages\\urllib3\\util\\connection.py\", line 60, in create_connection\n",
      "    for res in socket.getaddrinfo(host, port, family, socket.SOCK_STREAM):\n",
      "  File \"D:\\App\\Anaconda3\\envs\\69t112\\lib\\socket.py\", line 743, in getaddrinfo\n",
      "    for res in _socket.getaddrinfo(host, port, family, type, proto, flags):\n",
      "socket.gaierror: [Errno 11004] getaddrinfo failed\n",
      "\n",
      "During handling of the above exception, another exception occurred:\n",
      "\n",
      "Traceback (most recent call last):\n",
      "  File \"D:\\App\\Anaconda3\\envs\\69t112\\lib\\site-packages\\requests\\packages\\urllib3\\connectionpool.py\", line 600, in urlopen\n",
      "    chunked=chunked)\n",
      "  File \"D:\\App\\Anaconda3\\envs\\69t112\\lib\\site-packages\\requests\\packages\\urllib3\\connectionpool.py\", line 345, in _make_request\n",
      "    self._validate_conn(conn)\n",
      "  File \"D:\\App\\Anaconda3\\envs\\69t112\\lib\\site-packages\\requests\\packages\\urllib3\\connectionpool.py\", line 844, in _validate_conn\n",
      "    conn.connect()\n",
      "  File \"D:\\App\\Anaconda3\\envs\\69t112\\lib\\site-packages\\requests\\packages\\urllib3\\connection.py\", line 284, in connect\n",
      "    conn = self._new_conn()\n",
      "  File \"D:\\App\\Anaconda3\\envs\\69t112\\lib\\site-packages\\requests\\packages\\urllib3\\connection.py\", line 150, in _new_conn\n",
      "    self, \"Failed to establish a new connection: %s\" % e)\n",
      "requests.packages.urllib3.exceptions.NewConnectionError: <requests.packages.urllib3.connection.VerifiedHTTPSConnection object at 0x00000125934BA748>: Failed to establish a new connection: [Errno 11004] getaddrinfo failed\n",
      "\n",
      "During handling of the above exception, another exception occurred:\n",
      "\n",
      "Traceback (most recent call last):\n",
      "  File \"D:\\App\\Anaconda3\\envs\\69t112\\lib\\site-packages\\requests\\adapters.py\", line 438, in send\n",
      "    timeout=timeout\n",
      "  File \"D:\\App\\Anaconda3\\envs\\69t112\\lib\\site-packages\\requests\\packages\\urllib3\\connectionpool.py\", line 649, in urlopen\n",
      "    _stacktrace=sys.exc_info()[2])\n",
      "  File \"D:\\App\\Anaconda3\\envs\\69t112\\lib\\site-packages\\requests\\packages\\urllib3\\util\\retry.py\", line 388, in increment\n",
      "    raise MaxRetryError(_pool, url, error or ResponseError(cause))\n",
      "requests.packages.urllib3.exceptions.MaxRetryError: HTTPSConnectionPool(host='raw.githubusercontent.com', port=443): Max retries exceeded with url: /explosion/spacy-models/master/compatibility.json (Caused by NewConnectionError('<requests.packages.urllib3.connection.VerifiedHTTPSConnection object at 0x00000125934BA748>: Failed to establish a new connection: [Errno 11004] getaddrinfo failed',))\n",
      "\n",
      "During handling of the above exception, another exception occurred:\n",
      "\n",
      "Traceback (most recent call last):\n",
      "  File \"D:\\App\\Anaconda3\\envs\\69t112\\lib\\runpy.py\", line 193, in _run_module_as_main\n",
      "    \"__main__\", mod_spec)\n",
      "  File \"D:\\App\\Anaconda3\\envs\\69t112\\lib\\runpy.py\", line 85, in _run_code\n",
      "    exec(code, run_globals)\n",
      "  File \"D:\\App\\Anaconda3\\envs\\69t112\\lib\\site-packages\\spacy\\__main__.py\", line 4, in <module>\n",
      "    setup_cli()\n",
      "  File \"D:\\App\\Anaconda3\\envs\\69t112\\lib\\site-packages\\spacy\\cli\\_util.py\", line 74, in setup_cli\n",
      "    command(prog_name=COMMAND)\n",
      "  File \"D:\\App\\Anaconda3\\envs\\69t112\\lib\\site-packages\\click\\core.py\", line 1128, in __call__\n",
      "    return self.main(*args, **kwargs)\n",
      "  File \"D:\\App\\Anaconda3\\envs\\69t112\\lib\\site-packages\\typer\\core.py\", line 785, in main\n",
      "    **extra,\n",
      "  File \"D:\\App\\Anaconda3\\envs\\69t112\\lib\\site-packages\\typer\\core.py\", line 216, in _main\n",
      "    rv = self.invoke(ctx)\n",
      "  File \"D:\\App\\Anaconda3\\envs\\69t112\\lib\\site-packages\\click\\core.py\", line 1659, in invoke\n",
      "    return _process_result(sub_ctx.command.invoke(sub_ctx))\n",
      "  File \"D:\\App\\Anaconda3\\envs\\69t112\\lib\\site-packages\\click\\core.py\", line 1395, in invoke\n",
      "    return ctx.invoke(self.callback, **ctx.params)\n",
      "  File \"D:\\App\\Anaconda3\\envs\\69t112\\lib\\site-packages\\click\\core.py\", line 754, in invoke\n",
      "    return __callback(*args, **kwargs)\n",
      "  File \"D:\\App\\Anaconda3\\envs\\69t112\\lib\\site-packages\\typer\\main.py\", line 683, in wrapper\n",
      "    return callback(**use_params)  # type: ignore\n",
      "  File \"D:\\App\\Anaconda3\\envs\\69t112\\lib\\site-packages\\spacy\\cli\\download.py\", line 36, in download_cli\n",
      "    download(model, direct, sdist, *ctx.args)\n",
      "  File \"D:\\App\\Anaconda3\\envs\\69t112\\lib\\site-packages\\spacy\\cli\\download.py\", line 70, in download\n",
      "    compatibility = get_compatibility()\n",
      "  File \"D:\\App\\Anaconda3\\envs\\69t112\\lib\\site-packages\\spacy\\cli\\download.py\", line 97, in get_compatibility\n",
      "    r = requests.get(about.__compatibility__)\n",
      "  File \"D:\\App\\Anaconda3\\envs\\69t112\\lib\\site-packages\\requests\\api.py\", line 72, in get\n",
      "    return request('get', url, params=params, **kwargs)\n",
      "  File \"D:\\App\\Anaconda3\\envs\\69t112\\lib\\site-packages\\requests\\api.py\", line 58, in request\n",
      "    return session.request(method=method, url=url, **kwargs)\n",
      "  File \"D:\\App\\Anaconda3\\envs\\69t112\\lib\\site-packages\\requests\\sessions.py\", line 518, in request\n",
      "    resp = self.send(prep, **send_kwargs)\n",
      "  File \"D:\\App\\Anaconda3\\envs\\69t112\\lib\\site-packages\\requests\\sessions.py\", line 639, in send\n",
      "    r = adapter.send(request, **kwargs)\n",
      "  File \"D:\\App\\Anaconda3\\envs\\69t112\\lib\\site-packages\\requests\\adapters.py\", line 502, in send\n",
      "    raise ConnectionError(e, request=request)\n",
      "requests.exceptions.ConnectionError: HTTPSConnectionPool(host='raw.githubusercontent.com', port=443): Max retries exceeded with url: /explosion/spacy-models/master/compatibility.json (Caused by NewConnectionError('<requests.packages.urllib3.connection.VerifiedHTTPSConnection object at 0x00000125934BA748>: Failed to establish a new connection: [Errno 11004] getaddrinfo failed',))\n"
     ]
    }
   ],
   "source": [
    "# SpaCy：https://blog.csdn.net/u012436149/article/details/79321112 https://spacy.io/usage/linguistic-features#section-tokenization\n",
    "# !pip install spacy\n",
    "!python -m spacy download en_core_web_sm"
   ]
  },
  {
   "cell_type": "code",
   "execution_count": 8,
   "metadata": {
    "pycharm": {
     "name": "#%%\n"
    }
   },
   "outputs": [
    {
     "name": "stderr",
     "output_type": "stream",
     "text": [
      "D:\\App\\Anaconda3\\envs\\69t112\\lib\\site-packages\\tensorflow\\python\\framework\\dtypes.py:523: FutureWarning: Passing (type, 1) or '1type' as a synonym of type is deprecated; in a future version of numpy, it will be understood as (type, (1,)) / '(1,)type'.\n",
      "  _np_qint8 = np.dtype([(\"qint8\", np.int8, 1)])\n",
      "D:\\App\\Anaconda3\\envs\\69t112\\lib\\site-packages\\tensorflow\\python\\framework\\dtypes.py:524: FutureWarning: Passing (type, 1) or '1type' as a synonym of type is deprecated; in a future version of numpy, it will be understood as (type, (1,)) / '(1,)type'.\n",
      "  _np_quint8 = np.dtype([(\"quint8\", np.uint8, 1)])\n",
      "D:\\App\\Anaconda3\\envs\\69t112\\lib\\site-packages\\tensorflow\\python\\framework\\dtypes.py:525: FutureWarning: Passing (type, 1) or '1type' as a synonym of type is deprecated; in a future version of numpy, it will be understood as (type, (1,)) / '(1,)type'.\n",
      "  _np_qint16 = np.dtype([(\"qint16\", np.int16, 1)])\n",
      "D:\\App\\Anaconda3\\envs\\69t112\\lib\\site-packages\\tensorflow\\python\\framework\\dtypes.py:526: FutureWarning: Passing (type, 1) or '1type' as a synonym of type is deprecated; in a future version of numpy, it will be understood as (type, (1,)) / '(1,)type'.\n",
      "  _np_quint16 = np.dtype([(\"quint16\", np.uint16, 1)])\n",
      "D:\\App\\Anaconda3\\envs\\69t112\\lib\\site-packages\\tensorflow\\python\\framework\\dtypes.py:527: FutureWarning: Passing (type, 1) or '1type' as a synonym of type is deprecated; in a future version of numpy, it will be understood as (type, (1,)) / '(1,)type'.\n",
      "  _np_qint32 = np.dtype([(\"qint32\", np.int32, 1)])\n",
      "D:\\App\\Anaconda3\\envs\\69t112\\lib\\site-packages\\tensorflow\\python\\framework\\dtypes.py:532: FutureWarning: Passing (type, 1) or '1type' as a synonym of type is deprecated; in a future version of numpy, it will be understood as (type, (1,)) / '(1,)type'.\n",
      "  np_resource = np.dtype([(\"resource\", np.ubyte, 1)])\n"
     ]
    },
    {
     "name": "stdout",
     "output_type": "stream",
     "text": [
      "['Trump', 'was', 'born', 'and', 'raised', 'in', 'the', 'New', 'York', 'City', 'borough', 'of', 'Queens', 'and', 'received', 'an', 'economics', 'degree', 'from', 'the', 'Wharton', 'School', '.', 'He', 'was', 'appointed', 'president', 'of', 'his', 'family', \"'s\", 'real', 'estate', 'business', 'in', '1971', ',', 'renamed', 'it', 'The', 'Trump', 'Organization', ',', 'and', 'expanded', 'it', 'from', 'Queens', 'and', 'Brooklyn', 'into', 'Manhattan', '.', 'The', 'company', 'built', 'or', 'renovated', 'skyscrapers', ',', 'hotels', ',', 'casinos', ',', 'and', 'golf', 'courses', '.', 'Trump', 'later', 'started', 'various', 'side', 'ventures', ',', 'including', 'licensing', 'his', 'name', 'for', 'real', 'estate', 'and', 'consumer', 'products', '.', 'He', 'managed', 'the', 'company', 'until', 'his', '2017', 'inauguration', '.', 'He', 'co', '-', 'authored', 'several', 'books', ',', 'including', 'The', 'Art', 'of', 'the', 'Deal', '.', 'He', 'owned', 'the', 'Miss', 'Universe', 'and', 'Miss', 'USA', 'beauty', 'pageants', 'from', '1996', 'to', '2015', ',', 'and', 'he', 'produced', 'and', 'hosted', 'The', 'Apprentice', ',', 'a', 'reality', 'television', 'show', ',', 'from', '2003', 'to', '2015', '.', 'Forbes', 'estimates', 'his', 'net', 'worth', 'to', 'be', '$', '3.1', 'billion', '.']\n"
     ]
    }
   ],
   "source": [
    "import spacy\n",
    "nlp = spacy.load(\"en_core_web_sm\")\n",
    "doc = nlp(et)\n",
    "ans = [token.text for token in doc]\n",
    "print(ans)"
   ]
  },
  {
   "cell_type": "code",
   "execution_count": null,
   "metadata": {
    "pycharm": {
     "name": "#%%\n"
    }
   },
   "outputs": [],
   "source": [
    "# StanfordCoreNLP： https://github.com/Lynten/stanford-corenlp\n"
   ]
  },
  {
   "cell_type": "code",
   "execution_count": 9,
   "metadata": {
    "pycharm": {
     "name": "#%%\n"
    }
   },
   "outputs": [
    {
     "name": "stdout",
     "output_type": "stream",
     "text": [
      "['Trump', 'was', 'born', 'and', 'raised', 'in', 'the', 'New', 'York', 'City', 'borough', 'of', 'Queens', 'and', 'received', 'an', 'economics', 'degree', 'from', 'the', 'Wharton', 'School.', 'He', 'was', 'appointed', 'president', 'of', 'his', \"family's\", 'real', 'estate', 'business', 'in', '1971', ',', 'renamed', 'it', 'The', 'Trump', 'Organization', ',', 'and', 'expanded', 'it', 'from', 'Queens', 'and', 'Brooklyn', 'into', 'Manhattan', '.', 'The', 'company', 'built', 'or', 'renovated', 'skyscrapers', ',', 'hotels', ',', 'casinos', ',', 'and', 'golf', 'courses.', 'Trump', 'later', 'started', 'various', 'side', 'ventures', ',', 'including', 'licensing', 'his', 'name', 'for', 'real', 'estate', 'and', 'consumer', 'products.', 'He', 'managed', 'the', 'company', 'until', 'his', '2017', 'inauguration.', 'He', 'co-authored', 'several', 'books', ',', 'including', 'The', 'Art', 'of', 'the', 'Deal.', 'He', 'owned', 'the', 'Miss', 'Universe', 'and', 'Miss', 'USA', 'beauty', 'pageants', 'from', '1996', 'to', '2015', ',', 'and', 'he', 'produced', 'and', 'hosted', 'The', 'Apprentice', ',', 'a', 'reality', 'television', 'show', ',', 'from', '2003', 'to', '2015.', 'Forbes', 'estimates', 'his', 'net', 'worth', 'to', 'be', '$3.1', 'billion', '.']\n"
     ]
    }
   ],
   "source": [
    "with StanfordCoreNLP(r'F:\\envs\\datas\\stanford-corenlp-full-2018-02-27',\n",
    "                     lang='zh') as nlp:\n",
    "    print(nlp.word_tokenize(et))"
   ]
  }
 ],
 "metadata": {
  "kernelspec": {
   "display_name": "69t112",
   "language": "python",
   "name": "69t112"
  },
  "language_info": {
   "codemirror_mode": {
    "name": "ipython",
    "version": 3
   },
   "file_extension": ".py",
   "mimetype": "text/x-python",
   "name": "python",
   "nbconvert_exporter": "python",
   "pygments_lexer": "ipython3",
   "version": "3.8.13"
  }
 },
 "nbformat": 4,
 "nbformat_minor": 1
}
